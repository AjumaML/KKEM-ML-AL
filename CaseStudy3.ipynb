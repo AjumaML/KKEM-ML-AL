{
  "nbformat": 4,
  "nbformat_minor": 0,
  "metadata": {
    "colab": {
      "provenance": []
    },
    "kernelspec": {
      "name": "python3",
      "display_name": "Python 3"
    },
    "language_info": {
      "name": "python"
    }
  },
  "cells": [
    {
      "cell_type": "markdown",
      "source": [
        "#               Case Study 0 3 \n",
        "\n",
        "##             Artificial Neural Network\n",
        "\n",
        "###           mobile_price_classification\n",
        "\n",
        "Data and class labels are available in mobile_price_classification.csv file. Use price_range column as label and remaining columns as data."
      ],
      "metadata": {
        "id": "VebGtuw8IGTl"
      }
    },
    {
      "cell_type": "markdown",
      "source": [
        "### Import necessary files"
      ],
      "metadata": {
        "id": "axsT6XvBIiPJ"
      }
    },
    {
      "cell_type": "code",
      "execution_count": 1,
      "metadata": {
        "id": "C3IrrtAxb755"
      },
      "outputs": [],
      "source": [
        "import numpy as np\n",
        "import pandas as pd"
      ]
    },
    {
      "cell_type": "markdown",
      "source": [
        "### Import datafiles"
      ],
      "metadata": {
        "id": "XhtXeU6MIm31"
      }
    },
    {
      "cell_type": "code",
      "source": [
        "df = pd.read_csv('/content/mobile_price_classification(1).csv')"
      ],
      "metadata": {
        "id": "tqllfSP6cBuS"
      },
      "execution_count": 3,
      "outputs": []
    },
    {
      "cell_type": "markdown",
      "source": [
        "### Data Analysis and Preprocessing"
      ],
      "metadata": {
        "id": "EhgxUluTIyUg"
      }
    },
    {
      "cell_type": "code",
      "source": [
        "df.info()"
      ],
      "metadata": {
        "colab": {
          "base_uri": "https://localhost:8080/"
        },
        "id": "gHzYLtfMcS1z",
        "outputId": "2e91484c-13a1-4125-89bd-8e2b9f35de2d"
      },
      "execution_count": 4,
      "outputs": [
        {
          "output_type": "stream",
          "name": "stdout",
          "text": [
            "<class 'pandas.core.frame.DataFrame'>\n",
            "RangeIndex: 2000 entries, 0 to 1999\n",
            "Data columns (total 21 columns):\n",
            " #   Column          Non-Null Count  Dtype  \n",
            "---  ------          --------------  -----  \n",
            " 0   battery_power   2000 non-null   int64  \n",
            " 1   bluetooth       2000 non-null   int64  \n",
            " 2   clock_speed     2000 non-null   float64\n",
            " 3   dual_sim        2000 non-null   int64  \n",
            " 4   front_cam       2000 non-null   int64  \n",
            " 5   4G              2000 non-null   int64  \n",
            " 6   int_memory      2000 non-null   int64  \n",
            " 7   m_dep           2000 non-null   float64\n",
            " 8   mobile_wt       2000 non-null   int64  \n",
            " 9   n_cores         2000 non-null   int64  \n",
            " 10  primary_camera  2000 non-null   int64  \n",
            " 11  px_height       2000 non-null   int64  \n",
            " 12  px_width        2000 non-null   int64  \n",
            " 13  ram             2000 non-null   int64  \n",
            " 14  sc_h            2000 non-null   int64  \n",
            " 15  sc_w            2000 non-null   int64  \n",
            " 16  talk_time       2000 non-null   int64  \n",
            " 17  three_g         2000 non-null   int64  \n",
            " 18  touch_screen    2000 non-null   int64  \n",
            " 19  wifi            2000 non-null   int64  \n",
            " 20  price_range     2000 non-null   int64  \n",
            "dtypes: float64(2), int64(19)\n",
            "memory usage: 328.2 KB\n"
          ]
        }
      ]
    },
    {
      "cell_type": "code",
      "source": [
        "df.head()"
      ],
      "metadata": {
        "colab": {
          "base_uri": "https://localhost:8080/",
          "height": 299
        },
        "id": "AGvrlVg4dK_n",
        "outputId": "c94954d1-2e5c-4839-e6b9-fb1542f71ce7"
      },
      "execution_count": 5,
      "outputs": [
        {
          "output_type": "execute_result",
          "data": {
            "text/plain": [
              "   battery_power  bluetooth  clock_speed  dual_sim  front_cam  4G  int_memory  \\\n",
              "0            842          0          2.2         0          1   0           7   \n",
              "1           1021          1          0.5         1          0   1          53   \n",
              "2            563          1          0.5         1          2   1          41   \n",
              "3            615          1          2.5         0          0   0          10   \n",
              "4           1821          1          1.2         0         13   1          44   \n",
              "\n",
              "   m_dep  mobile_wt  n_cores  ...  px_height  px_width   ram  sc_h  sc_w  \\\n",
              "0    0.6        188        2  ...         20       756  2549     9     7   \n",
              "1    0.7        136        3  ...        905      1988  2631    17     3   \n",
              "2    0.9        145        5  ...       1263      1716  2603    11     2   \n",
              "3    0.8        131        6  ...       1216      1786  2769    16     8   \n",
              "4    0.6        141        2  ...       1208      1212  1411     8     2   \n",
              "\n",
              "   talk_time  three_g  touch_screen  wifi  price_range  \n",
              "0         19        0             0     1            1  \n",
              "1          7        1             1     0            2  \n",
              "2          9        1             1     0            2  \n",
              "3         11        1             0     0            2  \n",
              "4         15        1             1     0            1  \n",
              "\n",
              "[5 rows x 21 columns]"
            ],
            "text/html": [
              "\n",
              "  <div id=\"df-2e56ecc8-0dde-4441-97b8-39806b2bbdb1\">\n",
              "    <div class=\"colab-df-container\">\n",
              "      <div>\n",
              "<style scoped>\n",
              "    .dataframe tbody tr th:only-of-type {\n",
              "        vertical-align: middle;\n",
              "    }\n",
              "\n",
              "    .dataframe tbody tr th {\n",
              "        vertical-align: top;\n",
              "    }\n",
              "\n",
              "    .dataframe thead th {\n",
              "        text-align: right;\n",
              "    }\n",
              "</style>\n",
              "<table border=\"1\" class=\"dataframe\">\n",
              "  <thead>\n",
              "    <tr style=\"text-align: right;\">\n",
              "      <th></th>\n",
              "      <th>battery_power</th>\n",
              "      <th>bluetooth</th>\n",
              "      <th>clock_speed</th>\n",
              "      <th>dual_sim</th>\n",
              "      <th>front_cam</th>\n",
              "      <th>4G</th>\n",
              "      <th>int_memory</th>\n",
              "      <th>m_dep</th>\n",
              "      <th>mobile_wt</th>\n",
              "      <th>n_cores</th>\n",
              "      <th>...</th>\n",
              "      <th>px_height</th>\n",
              "      <th>px_width</th>\n",
              "      <th>ram</th>\n",
              "      <th>sc_h</th>\n",
              "      <th>sc_w</th>\n",
              "      <th>talk_time</th>\n",
              "      <th>three_g</th>\n",
              "      <th>touch_screen</th>\n",
              "      <th>wifi</th>\n",
              "      <th>price_range</th>\n",
              "    </tr>\n",
              "  </thead>\n",
              "  <tbody>\n",
              "    <tr>\n",
              "      <th>0</th>\n",
              "      <td>842</td>\n",
              "      <td>0</td>\n",
              "      <td>2.2</td>\n",
              "      <td>0</td>\n",
              "      <td>1</td>\n",
              "      <td>0</td>\n",
              "      <td>7</td>\n",
              "      <td>0.6</td>\n",
              "      <td>188</td>\n",
              "      <td>2</td>\n",
              "      <td>...</td>\n",
              "      <td>20</td>\n",
              "      <td>756</td>\n",
              "      <td>2549</td>\n",
              "      <td>9</td>\n",
              "      <td>7</td>\n",
              "      <td>19</td>\n",
              "      <td>0</td>\n",
              "      <td>0</td>\n",
              "      <td>1</td>\n",
              "      <td>1</td>\n",
              "    </tr>\n",
              "    <tr>\n",
              "      <th>1</th>\n",
              "      <td>1021</td>\n",
              "      <td>1</td>\n",
              "      <td>0.5</td>\n",
              "      <td>1</td>\n",
              "      <td>0</td>\n",
              "      <td>1</td>\n",
              "      <td>53</td>\n",
              "      <td>0.7</td>\n",
              "      <td>136</td>\n",
              "      <td>3</td>\n",
              "      <td>...</td>\n",
              "      <td>905</td>\n",
              "      <td>1988</td>\n",
              "      <td>2631</td>\n",
              "      <td>17</td>\n",
              "      <td>3</td>\n",
              "      <td>7</td>\n",
              "      <td>1</td>\n",
              "      <td>1</td>\n",
              "      <td>0</td>\n",
              "      <td>2</td>\n",
              "    </tr>\n",
              "    <tr>\n",
              "      <th>2</th>\n",
              "      <td>563</td>\n",
              "      <td>1</td>\n",
              "      <td>0.5</td>\n",
              "      <td>1</td>\n",
              "      <td>2</td>\n",
              "      <td>1</td>\n",
              "      <td>41</td>\n",
              "      <td>0.9</td>\n",
              "      <td>145</td>\n",
              "      <td>5</td>\n",
              "      <td>...</td>\n",
              "      <td>1263</td>\n",
              "      <td>1716</td>\n",
              "      <td>2603</td>\n",
              "      <td>11</td>\n",
              "      <td>2</td>\n",
              "      <td>9</td>\n",
              "      <td>1</td>\n",
              "      <td>1</td>\n",
              "      <td>0</td>\n",
              "      <td>2</td>\n",
              "    </tr>\n",
              "    <tr>\n",
              "      <th>3</th>\n",
              "      <td>615</td>\n",
              "      <td>1</td>\n",
              "      <td>2.5</td>\n",
              "      <td>0</td>\n",
              "      <td>0</td>\n",
              "      <td>0</td>\n",
              "      <td>10</td>\n",
              "      <td>0.8</td>\n",
              "      <td>131</td>\n",
              "      <td>6</td>\n",
              "      <td>...</td>\n",
              "      <td>1216</td>\n",
              "      <td>1786</td>\n",
              "      <td>2769</td>\n",
              "      <td>16</td>\n",
              "      <td>8</td>\n",
              "      <td>11</td>\n",
              "      <td>1</td>\n",
              "      <td>0</td>\n",
              "      <td>0</td>\n",
              "      <td>2</td>\n",
              "    </tr>\n",
              "    <tr>\n",
              "      <th>4</th>\n",
              "      <td>1821</td>\n",
              "      <td>1</td>\n",
              "      <td>1.2</td>\n",
              "      <td>0</td>\n",
              "      <td>13</td>\n",
              "      <td>1</td>\n",
              "      <td>44</td>\n",
              "      <td>0.6</td>\n",
              "      <td>141</td>\n",
              "      <td>2</td>\n",
              "      <td>...</td>\n",
              "      <td>1208</td>\n",
              "      <td>1212</td>\n",
              "      <td>1411</td>\n",
              "      <td>8</td>\n",
              "      <td>2</td>\n",
              "      <td>15</td>\n",
              "      <td>1</td>\n",
              "      <td>1</td>\n",
              "      <td>0</td>\n",
              "      <td>1</td>\n",
              "    </tr>\n",
              "  </tbody>\n",
              "</table>\n",
              "<p>5 rows × 21 columns</p>\n",
              "</div>\n",
              "      <button class=\"colab-df-convert\" onclick=\"convertToInteractive('df-2e56ecc8-0dde-4441-97b8-39806b2bbdb1')\"\n",
              "              title=\"Convert this dataframe to an interactive table.\"\n",
              "              style=\"display:none;\">\n",
              "        \n",
              "  <svg xmlns=\"http://www.w3.org/2000/svg\" height=\"24px\"viewBox=\"0 0 24 24\"\n",
              "       width=\"24px\">\n",
              "    <path d=\"M0 0h24v24H0V0z\" fill=\"none\"/>\n",
              "    <path d=\"M18.56 5.44l.94 2.06.94-2.06 2.06-.94-2.06-.94-.94-2.06-.94 2.06-2.06.94zm-11 1L8.5 8.5l.94-2.06 2.06-.94-2.06-.94L8.5 2.5l-.94 2.06-2.06.94zm10 10l.94 2.06.94-2.06 2.06-.94-2.06-.94-.94-2.06-.94 2.06-2.06.94z\"/><path d=\"M17.41 7.96l-1.37-1.37c-.4-.4-.92-.59-1.43-.59-.52 0-1.04.2-1.43.59L10.3 9.45l-7.72 7.72c-.78.78-.78 2.05 0 2.83L4 21.41c.39.39.9.59 1.41.59.51 0 1.02-.2 1.41-.59l7.78-7.78 2.81-2.81c.8-.78.8-2.07 0-2.86zM5.41 20L4 18.59l7.72-7.72 1.47 1.35L5.41 20z\"/>\n",
              "  </svg>\n",
              "      </button>\n",
              "      \n",
              "  <style>\n",
              "    .colab-df-container {\n",
              "      display:flex;\n",
              "      flex-wrap:wrap;\n",
              "      gap: 12px;\n",
              "    }\n",
              "\n",
              "    .colab-df-convert {\n",
              "      background-color: #E8F0FE;\n",
              "      border: none;\n",
              "      border-radius: 50%;\n",
              "      cursor: pointer;\n",
              "      display: none;\n",
              "      fill: #1967D2;\n",
              "      height: 32px;\n",
              "      padding: 0 0 0 0;\n",
              "      width: 32px;\n",
              "    }\n",
              "\n",
              "    .colab-df-convert:hover {\n",
              "      background-color: #E2EBFA;\n",
              "      box-shadow: 0px 1px 2px rgba(60, 64, 67, 0.3), 0px 1px 3px 1px rgba(60, 64, 67, 0.15);\n",
              "      fill: #174EA6;\n",
              "    }\n",
              "\n",
              "    [theme=dark] .colab-df-convert {\n",
              "      background-color: #3B4455;\n",
              "      fill: #D2E3FC;\n",
              "    }\n",
              "\n",
              "    [theme=dark] .colab-df-convert:hover {\n",
              "      background-color: #434B5C;\n",
              "      box-shadow: 0px 1px 3px 1px rgba(0, 0, 0, 0.15);\n",
              "      filter: drop-shadow(0px 1px 2px rgba(0, 0, 0, 0.3));\n",
              "      fill: #FFFFFF;\n",
              "    }\n",
              "  </style>\n",
              "\n",
              "      <script>\n",
              "        const buttonEl =\n",
              "          document.querySelector('#df-2e56ecc8-0dde-4441-97b8-39806b2bbdb1 button.colab-df-convert');\n",
              "        buttonEl.style.display =\n",
              "          google.colab.kernel.accessAllowed ? 'block' : 'none';\n",
              "\n",
              "        async function convertToInteractive(key) {\n",
              "          const element = document.querySelector('#df-2e56ecc8-0dde-4441-97b8-39806b2bbdb1');\n",
              "          const dataTable =\n",
              "            await google.colab.kernel.invokeFunction('convertToInteractive',\n",
              "                                                     [key], {});\n",
              "          if (!dataTable) return;\n",
              "\n",
              "          const docLinkHtml = 'Like what you see? Visit the ' +\n",
              "            '<a target=\"_blank\" href=https://colab.research.google.com/notebooks/data_table.ipynb>data table notebook</a>'\n",
              "            + ' to learn more about interactive tables.';\n",
              "          element.innerHTML = '';\n",
              "          dataTable['output_type'] = 'display_data';\n",
              "          await google.colab.output.renderOutput(dataTable, element);\n",
              "          const docLink = document.createElement('div');\n",
              "          docLink.innerHTML = docLinkHtml;\n",
              "          element.appendChild(docLink);\n",
              "        }\n",
              "      </script>\n",
              "    </div>\n",
              "  </div>\n",
              "  "
            ]
          },
          "metadata": {},
          "execution_count": 5
        }
      ]
    },
    {
      "cell_type": "code",
      "source": [
        "df.describe()"
      ],
      "metadata": {
        "colab": {
          "base_uri": "https://localhost:8080/",
          "height": 393
        },
        "id": "xsghVPKNmuBj",
        "outputId": "61f44c9e-3909-4d6f-81e8-16c902599f13"
      },
      "execution_count": 6,
      "outputs": [
        {
          "output_type": "execute_result",
          "data": {
            "text/plain": [
              "       battery_power  bluetooth  clock_speed     dual_sim    front_cam  \\\n",
              "count    2000.000000  2000.0000  2000.000000  2000.000000  2000.000000   \n",
              "mean     1238.518500     0.4950     1.522250     0.509500     4.309500   \n",
              "std       439.418206     0.5001     0.816004     0.500035     4.341444   \n",
              "min       501.000000     0.0000     0.500000     0.000000     0.000000   \n",
              "25%       851.750000     0.0000     0.700000     0.000000     1.000000   \n",
              "50%      1226.000000     0.0000     1.500000     1.000000     3.000000   \n",
              "75%      1615.250000     1.0000     2.200000     1.000000     7.000000   \n",
              "max      1998.000000     1.0000     3.000000     1.000000    19.000000   \n",
              "\n",
              "                4G   int_memory        m_dep    mobile_wt      n_cores  ...  \\\n",
              "count  2000.000000  2000.000000  2000.000000  2000.000000  2000.000000  ...   \n",
              "mean      0.521500    32.046500     0.501750   140.249000     4.520500  ...   \n",
              "std       0.499662    18.145715     0.288416    35.399655     2.287837  ...   \n",
              "min       0.000000     2.000000     0.100000    80.000000     1.000000  ...   \n",
              "25%       0.000000    16.000000     0.200000   109.000000     3.000000  ...   \n",
              "50%       1.000000    32.000000     0.500000   141.000000     4.000000  ...   \n",
              "75%       1.000000    48.000000     0.800000   170.000000     7.000000  ...   \n",
              "max       1.000000    64.000000     1.000000   200.000000     8.000000  ...   \n",
              "\n",
              "         px_height     px_width          ram         sc_h         sc_w  \\\n",
              "count  2000.000000  2000.000000  2000.000000  2000.000000  2000.000000   \n",
              "mean    645.108000  1251.515500  2124.213000    12.306500     5.767000   \n",
              "std     443.780811   432.199447  1084.732044     4.213245     4.356398   \n",
              "min       0.000000   500.000000   256.000000     5.000000     0.000000   \n",
              "25%     282.750000   874.750000  1207.500000     9.000000     2.000000   \n",
              "50%     564.000000  1247.000000  2146.500000    12.000000     5.000000   \n",
              "75%     947.250000  1633.000000  3064.500000    16.000000     9.000000   \n",
              "max    1960.000000  1998.000000  3998.000000    19.000000    18.000000   \n",
              "\n",
              "         talk_time      three_g  touch_screen         wifi  price_range  \n",
              "count  2000.000000  2000.000000   2000.000000  2000.000000  2000.000000  \n",
              "mean     11.011000     0.761500      0.503000     0.507000     1.500000  \n",
              "std       5.463955     0.426273      0.500116     0.500076     1.118314  \n",
              "min       2.000000     0.000000      0.000000     0.000000     0.000000  \n",
              "25%       6.000000     1.000000      0.000000     0.000000     0.750000  \n",
              "50%      11.000000     1.000000      1.000000     1.000000     1.500000  \n",
              "75%      16.000000     1.000000      1.000000     1.000000     2.250000  \n",
              "max      20.000000     1.000000      1.000000     1.000000     3.000000  \n",
              "\n",
              "[8 rows x 21 columns]"
            ],
            "text/html": [
              "\n",
              "  <div id=\"df-354e0971-47b9-485f-9afa-e1da847ea54c\">\n",
              "    <div class=\"colab-df-container\">\n",
              "      <div>\n",
              "<style scoped>\n",
              "    .dataframe tbody tr th:only-of-type {\n",
              "        vertical-align: middle;\n",
              "    }\n",
              "\n",
              "    .dataframe tbody tr th {\n",
              "        vertical-align: top;\n",
              "    }\n",
              "\n",
              "    .dataframe thead th {\n",
              "        text-align: right;\n",
              "    }\n",
              "</style>\n",
              "<table border=\"1\" class=\"dataframe\">\n",
              "  <thead>\n",
              "    <tr style=\"text-align: right;\">\n",
              "      <th></th>\n",
              "      <th>battery_power</th>\n",
              "      <th>bluetooth</th>\n",
              "      <th>clock_speed</th>\n",
              "      <th>dual_sim</th>\n",
              "      <th>front_cam</th>\n",
              "      <th>4G</th>\n",
              "      <th>int_memory</th>\n",
              "      <th>m_dep</th>\n",
              "      <th>mobile_wt</th>\n",
              "      <th>n_cores</th>\n",
              "      <th>...</th>\n",
              "      <th>px_height</th>\n",
              "      <th>px_width</th>\n",
              "      <th>ram</th>\n",
              "      <th>sc_h</th>\n",
              "      <th>sc_w</th>\n",
              "      <th>talk_time</th>\n",
              "      <th>three_g</th>\n",
              "      <th>touch_screen</th>\n",
              "      <th>wifi</th>\n",
              "      <th>price_range</th>\n",
              "    </tr>\n",
              "  </thead>\n",
              "  <tbody>\n",
              "    <tr>\n",
              "      <th>count</th>\n",
              "      <td>2000.000000</td>\n",
              "      <td>2000.0000</td>\n",
              "      <td>2000.000000</td>\n",
              "      <td>2000.000000</td>\n",
              "      <td>2000.000000</td>\n",
              "      <td>2000.000000</td>\n",
              "      <td>2000.000000</td>\n",
              "      <td>2000.000000</td>\n",
              "      <td>2000.000000</td>\n",
              "      <td>2000.000000</td>\n",
              "      <td>...</td>\n",
              "      <td>2000.000000</td>\n",
              "      <td>2000.000000</td>\n",
              "      <td>2000.000000</td>\n",
              "      <td>2000.000000</td>\n",
              "      <td>2000.000000</td>\n",
              "      <td>2000.000000</td>\n",
              "      <td>2000.000000</td>\n",
              "      <td>2000.000000</td>\n",
              "      <td>2000.000000</td>\n",
              "      <td>2000.000000</td>\n",
              "    </tr>\n",
              "    <tr>\n",
              "      <th>mean</th>\n",
              "      <td>1238.518500</td>\n",
              "      <td>0.4950</td>\n",
              "      <td>1.522250</td>\n",
              "      <td>0.509500</td>\n",
              "      <td>4.309500</td>\n",
              "      <td>0.521500</td>\n",
              "      <td>32.046500</td>\n",
              "      <td>0.501750</td>\n",
              "      <td>140.249000</td>\n",
              "      <td>4.520500</td>\n",
              "      <td>...</td>\n",
              "      <td>645.108000</td>\n",
              "      <td>1251.515500</td>\n",
              "      <td>2124.213000</td>\n",
              "      <td>12.306500</td>\n",
              "      <td>5.767000</td>\n",
              "      <td>11.011000</td>\n",
              "      <td>0.761500</td>\n",
              "      <td>0.503000</td>\n",
              "      <td>0.507000</td>\n",
              "      <td>1.500000</td>\n",
              "    </tr>\n",
              "    <tr>\n",
              "      <th>std</th>\n",
              "      <td>439.418206</td>\n",
              "      <td>0.5001</td>\n",
              "      <td>0.816004</td>\n",
              "      <td>0.500035</td>\n",
              "      <td>4.341444</td>\n",
              "      <td>0.499662</td>\n",
              "      <td>18.145715</td>\n",
              "      <td>0.288416</td>\n",
              "      <td>35.399655</td>\n",
              "      <td>2.287837</td>\n",
              "      <td>...</td>\n",
              "      <td>443.780811</td>\n",
              "      <td>432.199447</td>\n",
              "      <td>1084.732044</td>\n",
              "      <td>4.213245</td>\n",
              "      <td>4.356398</td>\n",
              "      <td>5.463955</td>\n",
              "      <td>0.426273</td>\n",
              "      <td>0.500116</td>\n",
              "      <td>0.500076</td>\n",
              "      <td>1.118314</td>\n",
              "    </tr>\n",
              "    <tr>\n",
              "      <th>min</th>\n",
              "      <td>501.000000</td>\n",
              "      <td>0.0000</td>\n",
              "      <td>0.500000</td>\n",
              "      <td>0.000000</td>\n",
              "      <td>0.000000</td>\n",
              "      <td>0.000000</td>\n",
              "      <td>2.000000</td>\n",
              "      <td>0.100000</td>\n",
              "      <td>80.000000</td>\n",
              "      <td>1.000000</td>\n",
              "      <td>...</td>\n",
              "      <td>0.000000</td>\n",
              "      <td>500.000000</td>\n",
              "      <td>256.000000</td>\n",
              "      <td>5.000000</td>\n",
              "      <td>0.000000</td>\n",
              "      <td>2.000000</td>\n",
              "      <td>0.000000</td>\n",
              "      <td>0.000000</td>\n",
              "      <td>0.000000</td>\n",
              "      <td>0.000000</td>\n",
              "    </tr>\n",
              "    <tr>\n",
              "      <th>25%</th>\n",
              "      <td>851.750000</td>\n",
              "      <td>0.0000</td>\n",
              "      <td>0.700000</td>\n",
              "      <td>0.000000</td>\n",
              "      <td>1.000000</td>\n",
              "      <td>0.000000</td>\n",
              "      <td>16.000000</td>\n",
              "      <td>0.200000</td>\n",
              "      <td>109.000000</td>\n",
              "      <td>3.000000</td>\n",
              "      <td>...</td>\n",
              "      <td>282.750000</td>\n",
              "      <td>874.750000</td>\n",
              "      <td>1207.500000</td>\n",
              "      <td>9.000000</td>\n",
              "      <td>2.000000</td>\n",
              "      <td>6.000000</td>\n",
              "      <td>1.000000</td>\n",
              "      <td>0.000000</td>\n",
              "      <td>0.000000</td>\n",
              "      <td>0.750000</td>\n",
              "    </tr>\n",
              "    <tr>\n",
              "      <th>50%</th>\n",
              "      <td>1226.000000</td>\n",
              "      <td>0.0000</td>\n",
              "      <td>1.500000</td>\n",
              "      <td>1.000000</td>\n",
              "      <td>3.000000</td>\n",
              "      <td>1.000000</td>\n",
              "      <td>32.000000</td>\n",
              "      <td>0.500000</td>\n",
              "      <td>141.000000</td>\n",
              "      <td>4.000000</td>\n",
              "      <td>...</td>\n",
              "      <td>564.000000</td>\n",
              "      <td>1247.000000</td>\n",
              "      <td>2146.500000</td>\n",
              "      <td>12.000000</td>\n",
              "      <td>5.000000</td>\n",
              "      <td>11.000000</td>\n",
              "      <td>1.000000</td>\n",
              "      <td>1.000000</td>\n",
              "      <td>1.000000</td>\n",
              "      <td>1.500000</td>\n",
              "    </tr>\n",
              "    <tr>\n",
              "      <th>75%</th>\n",
              "      <td>1615.250000</td>\n",
              "      <td>1.0000</td>\n",
              "      <td>2.200000</td>\n",
              "      <td>1.000000</td>\n",
              "      <td>7.000000</td>\n",
              "      <td>1.000000</td>\n",
              "      <td>48.000000</td>\n",
              "      <td>0.800000</td>\n",
              "      <td>170.000000</td>\n",
              "      <td>7.000000</td>\n",
              "      <td>...</td>\n",
              "      <td>947.250000</td>\n",
              "      <td>1633.000000</td>\n",
              "      <td>3064.500000</td>\n",
              "      <td>16.000000</td>\n",
              "      <td>9.000000</td>\n",
              "      <td>16.000000</td>\n",
              "      <td>1.000000</td>\n",
              "      <td>1.000000</td>\n",
              "      <td>1.000000</td>\n",
              "      <td>2.250000</td>\n",
              "    </tr>\n",
              "    <tr>\n",
              "      <th>max</th>\n",
              "      <td>1998.000000</td>\n",
              "      <td>1.0000</td>\n",
              "      <td>3.000000</td>\n",
              "      <td>1.000000</td>\n",
              "      <td>19.000000</td>\n",
              "      <td>1.000000</td>\n",
              "      <td>64.000000</td>\n",
              "      <td>1.000000</td>\n",
              "      <td>200.000000</td>\n",
              "      <td>8.000000</td>\n",
              "      <td>...</td>\n",
              "      <td>1960.000000</td>\n",
              "      <td>1998.000000</td>\n",
              "      <td>3998.000000</td>\n",
              "      <td>19.000000</td>\n",
              "      <td>18.000000</td>\n",
              "      <td>20.000000</td>\n",
              "      <td>1.000000</td>\n",
              "      <td>1.000000</td>\n",
              "      <td>1.000000</td>\n",
              "      <td>3.000000</td>\n",
              "    </tr>\n",
              "  </tbody>\n",
              "</table>\n",
              "<p>8 rows × 21 columns</p>\n",
              "</div>\n",
              "      <button class=\"colab-df-convert\" onclick=\"convertToInteractive('df-354e0971-47b9-485f-9afa-e1da847ea54c')\"\n",
              "              title=\"Convert this dataframe to an interactive table.\"\n",
              "              style=\"display:none;\">\n",
              "        \n",
              "  <svg xmlns=\"http://www.w3.org/2000/svg\" height=\"24px\"viewBox=\"0 0 24 24\"\n",
              "       width=\"24px\">\n",
              "    <path d=\"M0 0h24v24H0V0z\" fill=\"none\"/>\n",
              "    <path d=\"M18.56 5.44l.94 2.06.94-2.06 2.06-.94-2.06-.94-.94-2.06-.94 2.06-2.06.94zm-11 1L8.5 8.5l.94-2.06 2.06-.94-2.06-.94L8.5 2.5l-.94 2.06-2.06.94zm10 10l.94 2.06.94-2.06 2.06-.94-2.06-.94-.94-2.06-.94 2.06-2.06.94z\"/><path d=\"M17.41 7.96l-1.37-1.37c-.4-.4-.92-.59-1.43-.59-.52 0-1.04.2-1.43.59L10.3 9.45l-7.72 7.72c-.78.78-.78 2.05 0 2.83L4 21.41c.39.39.9.59 1.41.59.51 0 1.02-.2 1.41-.59l7.78-7.78 2.81-2.81c.8-.78.8-2.07 0-2.86zM5.41 20L4 18.59l7.72-7.72 1.47 1.35L5.41 20z\"/>\n",
              "  </svg>\n",
              "      </button>\n",
              "      \n",
              "  <style>\n",
              "    .colab-df-container {\n",
              "      display:flex;\n",
              "      flex-wrap:wrap;\n",
              "      gap: 12px;\n",
              "    }\n",
              "\n",
              "    .colab-df-convert {\n",
              "      background-color: #E8F0FE;\n",
              "      border: none;\n",
              "      border-radius: 50%;\n",
              "      cursor: pointer;\n",
              "      display: none;\n",
              "      fill: #1967D2;\n",
              "      height: 32px;\n",
              "      padding: 0 0 0 0;\n",
              "      width: 32px;\n",
              "    }\n",
              "\n",
              "    .colab-df-convert:hover {\n",
              "      background-color: #E2EBFA;\n",
              "      box-shadow: 0px 1px 2px rgba(60, 64, 67, 0.3), 0px 1px 3px 1px rgba(60, 64, 67, 0.15);\n",
              "      fill: #174EA6;\n",
              "    }\n",
              "\n",
              "    [theme=dark] .colab-df-convert {\n",
              "      background-color: #3B4455;\n",
              "      fill: #D2E3FC;\n",
              "    }\n",
              "\n",
              "    [theme=dark] .colab-df-convert:hover {\n",
              "      background-color: #434B5C;\n",
              "      box-shadow: 0px 1px 3px 1px rgba(0, 0, 0, 0.15);\n",
              "      filter: drop-shadow(0px 1px 2px rgba(0, 0, 0, 0.3));\n",
              "      fill: #FFFFFF;\n",
              "    }\n",
              "  </style>\n",
              "\n",
              "      <script>\n",
              "        const buttonEl =\n",
              "          document.querySelector('#df-354e0971-47b9-485f-9afa-e1da847ea54c button.colab-df-convert');\n",
              "        buttonEl.style.display =\n",
              "          google.colab.kernel.accessAllowed ? 'block' : 'none';\n",
              "\n",
              "        async function convertToInteractive(key) {\n",
              "          const element = document.querySelector('#df-354e0971-47b9-485f-9afa-e1da847ea54c');\n",
              "          const dataTable =\n",
              "            await google.colab.kernel.invokeFunction('convertToInteractive',\n",
              "                                                     [key], {});\n",
              "          if (!dataTable) return;\n",
              "\n",
              "          const docLinkHtml = 'Like what you see? Visit the ' +\n",
              "            '<a target=\"_blank\" href=https://colab.research.google.com/notebooks/data_table.ipynb>data table notebook</a>'\n",
              "            + ' to learn more about interactive tables.';\n",
              "          element.innerHTML = '';\n",
              "          dataTable['output_type'] = 'display_data';\n",
              "          await google.colab.output.renderOutput(dataTable, element);\n",
              "          const docLink = document.createElement('div');\n",
              "          docLink.innerHTML = docLinkHtml;\n",
              "          element.appendChild(docLink);\n",
              "        }\n",
              "      </script>\n",
              "    </div>\n",
              "  </div>\n",
              "  "
            ]
          },
          "metadata": {},
          "execution_count": 6
        }
      ]
    },
    {
      "cell_type": "code",
      "source": [
        "df.shape"
      ],
      "metadata": {
        "colab": {
          "base_uri": "https://localhost:8080/"
        },
        "id": "V_WyRcSPdQlf",
        "outputId": "16cff30e-28d8-4510-b137-a3549d9fb810"
      },
      "execution_count": 7,
      "outputs": [
        {
          "output_type": "execute_result",
          "data": {
            "text/plain": [
              "(2000, 21)"
            ]
          },
          "metadata": {},
          "execution_count": 7
        }
      ]
    },
    {
      "cell_type": "markdown",
      "source": [
        "### Feature and Label Extraction"
      ],
      "metadata": {
        "id": "eJdIsBVdJ1wM"
      }
    },
    {
      "cell_type": "code",
      "source": [
        "data = df.drop('price_range',axis=1)\n",
        "label = df.price_range"
      ],
      "metadata": {
        "id": "XqY1V3oOdYwR"
      },
      "execution_count": 8,
      "outputs": []
    },
    {
      "cell_type": "code",
      "source": [
        "label.unique()"
      ],
      "metadata": {
        "colab": {
          "base_uri": "https://localhost:8080/"
        },
        "id": "O0pi4tq30zt1",
        "outputId": "259c28d0-06c2-423f-a655-9cdb4fa20a09"
      },
      "execution_count": 9,
      "outputs": [
        {
          "output_type": "execute_result",
          "data": {
            "text/plain": [
              "array([1, 2, 3, 0])"
            ]
          },
          "metadata": {},
          "execution_count": 9
        }
      ]
    },
    {
      "cell_type": "code",
      "source": [
        "label.shape"
      ],
      "metadata": {
        "colab": {
          "base_uri": "https://localhost:8080/"
        },
        "id": "Pl96aifM0wxP",
        "outputId": "ccc42ca6-474b-46c7-a01b-b218cab0dd59"
      },
      "execution_count": 10,
      "outputs": [
        {
          "output_type": "execute_result",
          "data": {
            "text/plain": [
              "(2000,)"
            ]
          },
          "metadata": {},
          "execution_count": 10
        }
      ]
    },
    {
      "cell_type": "code",
      "source": [
        "data.head()"
      ],
      "metadata": {
        "colab": {
          "base_uri": "https://localhost:8080/",
          "height": 270
        },
        "id": "mWSwCug2dvzp",
        "outputId": "d908abb6-7193-4660-ffa9-67e8f20c9bb1"
      },
      "execution_count": 11,
      "outputs": [
        {
          "output_type": "execute_result",
          "data": {
            "text/plain": [
              "   battery_power  bluetooth  clock_speed  dual_sim  front_cam  4G  int_memory  \\\n",
              "0            842          0          2.2         0          1   0           7   \n",
              "1           1021          1          0.5         1          0   1          53   \n",
              "2            563          1          0.5         1          2   1          41   \n",
              "3            615          1          2.5         0          0   0          10   \n",
              "4           1821          1          1.2         0         13   1          44   \n",
              "\n",
              "   m_dep  mobile_wt  n_cores  primary_camera  px_height  px_width   ram  sc_h  \\\n",
              "0    0.6        188        2               2         20       756  2549     9   \n",
              "1    0.7        136        3               6        905      1988  2631    17   \n",
              "2    0.9        145        5               6       1263      1716  2603    11   \n",
              "3    0.8        131        6               9       1216      1786  2769    16   \n",
              "4    0.6        141        2              14       1208      1212  1411     8   \n",
              "\n",
              "   sc_w  talk_time  three_g  touch_screen  wifi  \n",
              "0     7         19        0             0     1  \n",
              "1     3          7        1             1     0  \n",
              "2     2          9        1             1     0  \n",
              "3     8         11        1             0     0  \n",
              "4     2         15        1             1     0  "
            ],
            "text/html": [
              "\n",
              "  <div id=\"df-bd7c9e8e-dee9-4a02-b627-de4a4678bb24\">\n",
              "    <div class=\"colab-df-container\">\n",
              "      <div>\n",
              "<style scoped>\n",
              "    .dataframe tbody tr th:only-of-type {\n",
              "        vertical-align: middle;\n",
              "    }\n",
              "\n",
              "    .dataframe tbody tr th {\n",
              "        vertical-align: top;\n",
              "    }\n",
              "\n",
              "    .dataframe thead th {\n",
              "        text-align: right;\n",
              "    }\n",
              "</style>\n",
              "<table border=\"1\" class=\"dataframe\">\n",
              "  <thead>\n",
              "    <tr style=\"text-align: right;\">\n",
              "      <th></th>\n",
              "      <th>battery_power</th>\n",
              "      <th>bluetooth</th>\n",
              "      <th>clock_speed</th>\n",
              "      <th>dual_sim</th>\n",
              "      <th>front_cam</th>\n",
              "      <th>4G</th>\n",
              "      <th>int_memory</th>\n",
              "      <th>m_dep</th>\n",
              "      <th>mobile_wt</th>\n",
              "      <th>n_cores</th>\n",
              "      <th>primary_camera</th>\n",
              "      <th>px_height</th>\n",
              "      <th>px_width</th>\n",
              "      <th>ram</th>\n",
              "      <th>sc_h</th>\n",
              "      <th>sc_w</th>\n",
              "      <th>talk_time</th>\n",
              "      <th>three_g</th>\n",
              "      <th>touch_screen</th>\n",
              "      <th>wifi</th>\n",
              "    </tr>\n",
              "  </thead>\n",
              "  <tbody>\n",
              "    <tr>\n",
              "      <th>0</th>\n",
              "      <td>842</td>\n",
              "      <td>0</td>\n",
              "      <td>2.2</td>\n",
              "      <td>0</td>\n",
              "      <td>1</td>\n",
              "      <td>0</td>\n",
              "      <td>7</td>\n",
              "      <td>0.6</td>\n",
              "      <td>188</td>\n",
              "      <td>2</td>\n",
              "      <td>2</td>\n",
              "      <td>20</td>\n",
              "      <td>756</td>\n",
              "      <td>2549</td>\n",
              "      <td>9</td>\n",
              "      <td>7</td>\n",
              "      <td>19</td>\n",
              "      <td>0</td>\n",
              "      <td>0</td>\n",
              "      <td>1</td>\n",
              "    </tr>\n",
              "    <tr>\n",
              "      <th>1</th>\n",
              "      <td>1021</td>\n",
              "      <td>1</td>\n",
              "      <td>0.5</td>\n",
              "      <td>1</td>\n",
              "      <td>0</td>\n",
              "      <td>1</td>\n",
              "      <td>53</td>\n",
              "      <td>0.7</td>\n",
              "      <td>136</td>\n",
              "      <td>3</td>\n",
              "      <td>6</td>\n",
              "      <td>905</td>\n",
              "      <td>1988</td>\n",
              "      <td>2631</td>\n",
              "      <td>17</td>\n",
              "      <td>3</td>\n",
              "      <td>7</td>\n",
              "      <td>1</td>\n",
              "      <td>1</td>\n",
              "      <td>0</td>\n",
              "    </tr>\n",
              "    <tr>\n",
              "      <th>2</th>\n",
              "      <td>563</td>\n",
              "      <td>1</td>\n",
              "      <td>0.5</td>\n",
              "      <td>1</td>\n",
              "      <td>2</td>\n",
              "      <td>1</td>\n",
              "      <td>41</td>\n",
              "      <td>0.9</td>\n",
              "      <td>145</td>\n",
              "      <td>5</td>\n",
              "      <td>6</td>\n",
              "      <td>1263</td>\n",
              "      <td>1716</td>\n",
              "      <td>2603</td>\n",
              "      <td>11</td>\n",
              "      <td>2</td>\n",
              "      <td>9</td>\n",
              "      <td>1</td>\n",
              "      <td>1</td>\n",
              "      <td>0</td>\n",
              "    </tr>\n",
              "    <tr>\n",
              "      <th>3</th>\n",
              "      <td>615</td>\n",
              "      <td>1</td>\n",
              "      <td>2.5</td>\n",
              "      <td>0</td>\n",
              "      <td>0</td>\n",
              "      <td>0</td>\n",
              "      <td>10</td>\n",
              "      <td>0.8</td>\n",
              "      <td>131</td>\n",
              "      <td>6</td>\n",
              "      <td>9</td>\n",
              "      <td>1216</td>\n",
              "      <td>1786</td>\n",
              "      <td>2769</td>\n",
              "      <td>16</td>\n",
              "      <td>8</td>\n",
              "      <td>11</td>\n",
              "      <td>1</td>\n",
              "      <td>0</td>\n",
              "      <td>0</td>\n",
              "    </tr>\n",
              "    <tr>\n",
              "      <th>4</th>\n",
              "      <td>1821</td>\n",
              "      <td>1</td>\n",
              "      <td>1.2</td>\n",
              "      <td>0</td>\n",
              "      <td>13</td>\n",
              "      <td>1</td>\n",
              "      <td>44</td>\n",
              "      <td>0.6</td>\n",
              "      <td>141</td>\n",
              "      <td>2</td>\n",
              "      <td>14</td>\n",
              "      <td>1208</td>\n",
              "      <td>1212</td>\n",
              "      <td>1411</td>\n",
              "      <td>8</td>\n",
              "      <td>2</td>\n",
              "      <td>15</td>\n",
              "      <td>1</td>\n",
              "      <td>1</td>\n",
              "      <td>0</td>\n",
              "    </tr>\n",
              "  </tbody>\n",
              "</table>\n",
              "</div>\n",
              "      <button class=\"colab-df-convert\" onclick=\"convertToInteractive('df-bd7c9e8e-dee9-4a02-b627-de4a4678bb24')\"\n",
              "              title=\"Convert this dataframe to an interactive table.\"\n",
              "              style=\"display:none;\">\n",
              "        \n",
              "  <svg xmlns=\"http://www.w3.org/2000/svg\" height=\"24px\"viewBox=\"0 0 24 24\"\n",
              "       width=\"24px\">\n",
              "    <path d=\"M0 0h24v24H0V0z\" fill=\"none\"/>\n",
              "    <path d=\"M18.56 5.44l.94 2.06.94-2.06 2.06-.94-2.06-.94-.94-2.06-.94 2.06-2.06.94zm-11 1L8.5 8.5l.94-2.06 2.06-.94-2.06-.94L8.5 2.5l-.94 2.06-2.06.94zm10 10l.94 2.06.94-2.06 2.06-.94-2.06-.94-.94-2.06-.94 2.06-2.06.94z\"/><path d=\"M17.41 7.96l-1.37-1.37c-.4-.4-.92-.59-1.43-.59-.52 0-1.04.2-1.43.59L10.3 9.45l-7.72 7.72c-.78.78-.78 2.05 0 2.83L4 21.41c.39.39.9.59 1.41.59.51 0 1.02-.2 1.41-.59l7.78-7.78 2.81-2.81c.8-.78.8-2.07 0-2.86zM5.41 20L4 18.59l7.72-7.72 1.47 1.35L5.41 20z\"/>\n",
              "  </svg>\n",
              "      </button>\n",
              "      \n",
              "  <style>\n",
              "    .colab-df-container {\n",
              "      display:flex;\n",
              "      flex-wrap:wrap;\n",
              "      gap: 12px;\n",
              "    }\n",
              "\n",
              "    .colab-df-convert {\n",
              "      background-color: #E8F0FE;\n",
              "      border: none;\n",
              "      border-radius: 50%;\n",
              "      cursor: pointer;\n",
              "      display: none;\n",
              "      fill: #1967D2;\n",
              "      height: 32px;\n",
              "      padding: 0 0 0 0;\n",
              "      width: 32px;\n",
              "    }\n",
              "\n",
              "    .colab-df-convert:hover {\n",
              "      background-color: #E2EBFA;\n",
              "      box-shadow: 0px 1px 2px rgba(60, 64, 67, 0.3), 0px 1px 3px 1px rgba(60, 64, 67, 0.15);\n",
              "      fill: #174EA6;\n",
              "    }\n",
              "\n",
              "    [theme=dark] .colab-df-convert {\n",
              "      background-color: #3B4455;\n",
              "      fill: #D2E3FC;\n",
              "    }\n",
              "\n",
              "    [theme=dark] .colab-df-convert:hover {\n",
              "      background-color: #434B5C;\n",
              "      box-shadow: 0px 1px 3px 1px rgba(0, 0, 0, 0.15);\n",
              "      filter: drop-shadow(0px 1px 2px rgba(0, 0, 0, 0.3));\n",
              "      fill: #FFFFFF;\n",
              "    }\n",
              "  </style>\n",
              "\n",
              "      <script>\n",
              "        const buttonEl =\n",
              "          document.querySelector('#df-bd7c9e8e-dee9-4a02-b627-de4a4678bb24 button.colab-df-convert');\n",
              "        buttonEl.style.display =\n",
              "          google.colab.kernel.accessAllowed ? 'block' : 'none';\n",
              "\n",
              "        async function convertToInteractive(key) {\n",
              "          const element = document.querySelector('#df-bd7c9e8e-dee9-4a02-b627-de4a4678bb24');\n",
              "          const dataTable =\n",
              "            await google.colab.kernel.invokeFunction('convertToInteractive',\n",
              "                                                     [key], {});\n",
              "          if (!dataTable) return;\n",
              "\n",
              "          const docLinkHtml = 'Like what you see? Visit the ' +\n",
              "            '<a target=\"_blank\" href=https://colab.research.google.com/notebooks/data_table.ipynb>data table notebook</a>'\n",
              "            + ' to learn more about interactive tables.';\n",
              "          element.innerHTML = '';\n",
              "          dataTable['output_type'] = 'display_data';\n",
              "          await google.colab.output.renderOutput(dataTable, element);\n",
              "          const docLink = document.createElement('div');\n",
              "          docLink.innerHTML = docLinkHtml;\n",
              "          element.appendChild(docLink);\n",
              "        }\n",
              "      </script>\n",
              "    </div>\n",
              "  </div>\n",
              "  "
            ]
          },
          "metadata": {},
          "execution_count": 11
        }
      ]
    },
    {
      "cell_type": "code",
      "source": [
        "label.shape"
      ],
      "metadata": {
        "colab": {
          "base_uri": "https://localhost:8080/"
        },
        "id": "kSjkRLVhd0iV",
        "outputId": "fd6c9765-9263-4e86-bfbf-bf068f00c022"
      },
      "execution_count": 12,
      "outputs": [
        {
          "output_type": "execute_result",
          "data": {
            "text/plain": [
              "(2000,)"
            ]
          },
          "metadata": {},
          "execution_count": 12
        }
      ]
    },
    {
      "cell_type": "code",
      "source": [
        "#Scaling using MinMax Scaler\n",
        "from sklearn.preprocessing import MinMaxScaler\n",
        "\n",
        "cols_to_scale = ['battery_power', 'front_cam','int_memory','mobile_wt','n_cores','primary_camera','px_height','px_width','ram', 'sc_h','sc_w','talk_time' ]\n",
        "scaler = MinMaxScaler()\n",
        "scaler.fit(data[cols_to_scale])\n",
        "data[cols_to_scale] = scaler.transform(data[cols_to_scale])"
      ],
      "metadata": {
        "id": "ai6JdelDd4Cm"
      },
      "execution_count": 13,
      "outputs": []
    },
    {
      "cell_type": "code",
      "source": [
        "from sklearn.preprocessing import MinMaxScaler\n",
        "\n",
        "cols_to_scale = ['clock_speed', 'm_dep' ]\n",
        "scaler = MinMaxScaler()\n",
        "scaler.fit(data[cols_to_scale])\n",
        "data[cols_to_scale] = scaler.transform(data[cols_to_scale])"
      ],
      "metadata": {
        "id": "ZkeeJ8kct6lM"
      },
      "execution_count": 14,
      "outputs": []
    },
    {
      "cell_type": "code",
      "source": [
        "data.head"
      ],
      "metadata": {
        "colab": {
          "base_uri": "https://localhost:8080/"
        },
        "id": "Ka7cMF3WvrfH",
        "outputId": "52a97f2f-06df-4def-d836-eda7d6c08ab3"
      },
      "execution_count": 15,
      "outputs": [
        {
          "output_type": "execute_result",
          "data": {
            "text/plain": [
              "<bound method NDFrame.head of       battery_power  bluetooth  clock_speed  dual_sim  front_cam  4G  \\\n",
              "0          0.227789          0         0.68         0   0.052632   0   \n",
              "1          0.347361          1         0.00         1   0.000000   1   \n",
              "2          0.041416          1         0.00         1   0.105263   1   \n",
              "3          0.076152          1         0.80         0   0.000000   0   \n",
              "4          0.881764          1         0.28         0   0.684211   1   \n",
              "...             ...        ...          ...       ...        ...  ..   \n",
              "1995       0.195725          1         0.00         1   0.000000   1   \n",
              "1996       0.977956          1         0.84         1   0.000000   0   \n",
              "1997       0.941884          0         0.16         1   0.052632   1   \n",
              "1998       0.675351          0         0.16         0   0.210526   1   \n",
              "1999       0.006012          1         0.60         1   0.263158   1   \n",
              "\n",
              "      int_memory     m_dep  mobile_wt   n_cores  primary_camera  px_height  \\\n",
              "0       0.080645  0.555556   0.900000  0.142857            0.10   0.010204   \n",
              "1       0.822581  0.666667   0.466667  0.285714            0.30   0.461735   \n",
              "2       0.629032  0.888889   0.541667  0.571429            0.30   0.644388   \n",
              "3       0.129032  0.777778   0.425000  0.714286            0.45   0.620408   \n",
              "4       0.677419  0.555556   0.508333  0.142857            0.70   0.616327   \n",
              "...          ...       ...        ...       ...             ...        ...   \n",
              "1995    0.000000  0.777778   0.216667  0.714286            0.70   0.623469   \n",
              "1996    0.596774  0.111111   0.891667  0.428571            0.15   0.466837   \n",
              "1997    0.548387  0.666667   0.233333  1.000000            0.15   0.442857   \n",
              "1998    0.709677  0.000000   0.541667  0.571429            0.25   0.171429   \n",
              "1999    0.693548  0.888889   0.733333  0.714286            0.80   0.246429   \n",
              "\n",
              "      px_width       ram      sc_h      sc_w  talk_time  three_g  \\\n",
              "0     0.170895  0.612774  0.285714  0.388889   0.944444        0   \n",
              "1     0.993324  0.634687  0.857143  0.166667   0.277778        1   \n",
              "2     0.811749  0.627205  0.428571  0.111111   0.388889        1   \n",
              "3     0.858478  0.671566  0.785714  0.444444   0.500000        1   \n",
              "4     0.475300  0.308658  0.214286  0.111111   0.722222        1   \n",
              "...        ...       ...       ...       ...        ...      ...   \n",
              "1995  0.927904  0.110102  0.571429  0.222222   0.944444        1   \n",
              "1996  0.977971  0.474613  0.428571  0.555556   0.777778        1   \n",
              "1997  0.755674  0.748530  0.285714  0.055556   0.166667        1   \n",
              "1998  0.113485  0.163816  0.928571  0.555556   0.944444        1   \n",
              "1999  0.169559  0.978888  1.000000  0.222222   0.000000        1   \n",
              "\n",
              "      touch_screen  wifi  \n",
              "0                0     1  \n",
              "1                1     0  \n",
              "2                1     0  \n",
              "3                0     0  \n",
              "4                1     0  \n",
              "...            ...   ...  \n",
              "1995             1     0  \n",
              "1996             1     1  \n",
              "1997             1     0  \n",
              "1998             1     1  \n",
              "1999             1     1  \n",
              "\n",
              "[2000 rows x 20 columns]>"
            ]
          },
          "metadata": {},
          "execution_count": 15
        }
      ]
    },
    {
      "cell_type": "markdown",
      "source": [
        "### Modelling "
      ],
      "metadata": {
        "id": "T2mq7x44P28Z"
      }
    },
    {
      "cell_type": "code",
      "source": [
        "from sklearn.model_selection import train_test_split\n",
        "X_train, X_test, y_train, y_test = train_test_split(data, label, test_size=0.25, random_state=10)"
      ],
      "metadata": {
        "id": "3dfoCtODe9Kl"
      },
      "execution_count": 16,
      "outputs": []
    },
    {
      "cell_type": "code",
      "source": [
        "from keras.models import Sequential\n",
        "from keras.layers import Dense"
      ],
      "metadata": {
        "id": "foyF3oaVfDHK"
      },
      "execution_count": 17,
      "outputs": []
    },
    {
      "cell_type": "code",
      "source": [
        "model = Sequential()\n",
        "model.add(Dense(32,activation='relu'))\n",
        "model.add(Dense(10,activation='sigmoid'))\n",
        "model.add(Dense(4,activation='softmax'))"
      ],
      "metadata": {
        "id": "4mwS-lsvfJNl"
      },
      "execution_count": 18,
      "outputs": []
    },
    {
      "cell_type": "code",
      "source": [
        "model.compile(optimizer='adam', loss='sparse_categorical_crossentropy', metrics=['accuracy'])"
      ],
      "metadata": {
        "id": "a3gMYF04fNki"
      },
      "execution_count": 19,
      "outputs": []
    },
    {
      "cell_type": "code",
      "source": [
        "history = model.fit(X_train, y_train, validation_data=(X_test, y_test), epochs=100)"
      ],
      "metadata": {
        "colab": {
          "base_uri": "https://localhost:8080/"
        },
        "id": "pQM2cIEsfRro",
        "outputId": "d3e0383f-f6a8-47ac-d9d3-6f733ab5c5b6"
      },
      "execution_count": 20,
      "outputs": [
        {
          "output_type": "stream",
          "name": "stdout",
          "text": [
            "Epoch 1/100\n",
            "47/47 [==============================] - 1s 7ms/step - loss: 1.3800 - accuracy: 0.3227 - val_loss: 1.3624 - val_accuracy: 0.3420\n",
            "Epoch 2/100\n",
            "47/47 [==============================] - 0s 4ms/step - loss: 1.3527 - accuracy: 0.3827 - val_loss: 1.3402 - val_accuracy: 0.3960\n",
            "Epoch 3/100\n",
            "47/47 [==============================] - 0s 3ms/step - loss: 1.3201 - accuracy: 0.4627 - val_loss: 1.3026 - val_accuracy: 0.4560\n",
            "Epoch 4/100\n",
            "47/47 [==============================] - 0s 3ms/step - loss: 1.2708 - accuracy: 0.5340 - val_loss: 1.2517 - val_accuracy: 0.4680\n",
            "Epoch 5/100\n",
            "47/47 [==============================] - 0s 3ms/step - loss: 1.2077 - accuracy: 0.5387 - val_loss: 1.1861 - val_accuracy: 0.4840\n",
            "Epoch 6/100\n",
            "47/47 [==============================] - 0s 3ms/step - loss: 1.1311 - accuracy: 0.5813 - val_loss: 1.1105 - val_accuracy: 0.5820\n",
            "Epoch 7/100\n",
            "47/47 [==============================] - 0s 3ms/step - loss: 1.0544 - accuracy: 0.6213 - val_loss: 1.0373 - val_accuracy: 0.5840\n",
            "Epoch 8/100\n",
            "47/47 [==============================] - 0s 3ms/step - loss: 0.9841 - accuracy: 0.6567 - val_loss: 0.9724 - val_accuracy: 0.6640\n",
            "Epoch 9/100\n",
            "47/47 [==============================] - 0s 3ms/step - loss: 0.9240 - accuracy: 0.6973 - val_loss: 0.9210 - val_accuracy: 0.6660\n",
            "Epoch 10/100\n",
            "47/47 [==============================] - 0s 4ms/step - loss: 0.8732 - accuracy: 0.7320 - val_loss: 0.8736 - val_accuracy: 0.6620\n",
            "Epoch 11/100\n",
            "47/47 [==============================] - 0s 3ms/step - loss: 0.8261 - accuracy: 0.7467 - val_loss: 0.8277 - val_accuracy: 0.7460\n",
            "Epoch 12/100\n",
            "47/47 [==============================] - 0s 3ms/step - loss: 0.7873 - accuracy: 0.7740 - val_loss: 0.7958 - val_accuracy: 0.7220\n",
            "Epoch 13/100\n",
            "47/47 [==============================] - 0s 3ms/step - loss: 0.7519 - accuracy: 0.7940 - val_loss: 0.7623 - val_accuracy: 0.7660\n",
            "Epoch 14/100\n",
            "47/47 [==============================] - 0s 3ms/step - loss: 0.7212 - accuracy: 0.7980 - val_loss: 0.7325 - val_accuracy: 0.7980\n",
            "Epoch 15/100\n",
            "47/47 [==============================] - 0s 3ms/step - loss: 0.6931 - accuracy: 0.8240 - val_loss: 0.7070 - val_accuracy: 0.7920\n",
            "Epoch 16/100\n",
            "47/47 [==============================] - 0s 3ms/step - loss: 0.6669 - accuracy: 0.8340 - val_loss: 0.6826 - val_accuracy: 0.8040\n",
            "Epoch 17/100\n",
            "47/47 [==============================] - 0s 3ms/step - loss: 0.6432 - accuracy: 0.8233 - val_loss: 0.6652 - val_accuracy: 0.7940\n",
            "Epoch 18/100\n",
            "47/47 [==============================] - 0s 3ms/step - loss: 0.6179 - accuracy: 0.8407 - val_loss: 0.6396 - val_accuracy: 0.8340\n",
            "Epoch 19/100\n",
            "47/47 [==============================] - 0s 4ms/step - loss: 0.5956 - accuracy: 0.8593 - val_loss: 0.6144 - val_accuracy: 0.8380\n",
            "Epoch 20/100\n",
            "47/47 [==============================] - 0s 3ms/step - loss: 0.5728 - accuracy: 0.8720 - val_loss: 0.5921 - val_accuracy: 0.8440\n",
            "Epoch 21/100\n",
            "47/47 [==============================] - 0s 3ms/step - loss: 0.5523 - accuracy: 0.8813 - val_loss: 0.5740 - val_accuracy: 0.8500\n",
            "Epoch 22/100\n",
            "47/47 [==============================] - 0s 3ms/step - loss: 0.5317 - accuracy: 0.8780 - val_loss: 0.5588 - val_accuracy: 0.8440\n",
            "Epoch 23/100\n",
            "47/47 [==============================] - 0s 3ms/step - loss: 0.5126 - accuracy: 0.8867 - val_loss: 0.5351 - val_accuracy: 0.8720\n",
            "Epoch 24/100\n",
            "47/47 [==============================] - 0s 3ms/step - loss: 0.4947 - accuracy: 0.8993 - val_loss: 0.5192 - val_accuracy: 0.8720\n",
            "Epoch 25/100\n",
            "47/47 [==============================] - 0s 3ms/step - loss: 0.4790 - accuracy: 0.8993 - val_loss: 0.5016 - val_accuracy: 0.8720\n",
            "Epoch 26/100\n",
            "47/47 [==============================] - 0s 3ms/step - loss: 0.4606 - accuracy: 0.9033 - val_loss: 0.4872 - val_accuracy: 0.8780\n",
            "Epoch 27/100\n",
            "47/47 [==============================] - 0s 3ms/step - loss: 0.4448 - accuracy: 0.9073 - val_loss: 0.4777 - val_accuracy: 0.8620\n",
            "Epoch 28/100\n",
            "47/47 [==============================] - 0s 3ms/step - loss: 0.4309 - accuracy: 0.9127 - val_loss: 0.4585 - val_accuracy: 0.8840\n",
            "Epoch 29/100\n",
            "47/47 [==============================] - 0s 4ms/step - loss: 0.4174 - accuracy: 0.9160 - val_loss: 0.4490 - val_accuracy: 0.8620\n",
            "Epoch 30/100\n",
            "47/47 [==============================] - 0s 3ms/step - loss: 0.4037 - accuracy: 0.9213 - val_loss: 0.4361 - val_accuracy: 0.8740\n",
            "Epoch 31/100\n",
            "47/47 [==============================] - 0s 3ms/step - loss: 0.3910 - accuracy: 0.9200 - val_loss: 0.4217 - val_accuracy: 0.8740\n",
            "Epoch 32/100\n",
            "47/47 [==============================] - 0s 3ms/step - loss: 0.3805 - accuracy: 0.9333 - val_loss: 0.4130 - val_accuracy: 0.8920\n",
            "Epoch 33/100\n",
            "47/47 [==============================] - 0s 6ms/step - loss: 0.3688 - accuracy: 0.9253 - val_loss: 0.4033 - val_accuracy: 0.8900\n",
            "Epoch 34/100\n",
            "47/47 [==============================] - 0s 4ms/step - loss: 0.3587 - accuracy: 0.9340 - val_loss: 0.3962 - val_accuracy: 0.8780\n",
            "Epoch 35/100\n",
            "47/47 [==============================] - 0s 3ms/step - loss: 0.3474 - accuracy: 0.9333 - val_loss: 0.3774 - val_accuracy: 0.8940\n",
            "Epoch 36/100\n",
            "47/47 [==============================] - 0s 3ms/step - loss: 0.3341 - accuracy: 0.9367 - val_loss: 0.3653 - val_accuracy: 0.8960\n",
            "Epoch 37/100\n",
            "47/47 [==============================] - 0s 3ms/step - loss: 0.3245 - accuracy: 0.9467 - val_loss: 0.3598 - val_accuracy: 0.8980\n",
            "Epoch 38/100\n",
            "47/47 [==============================] - 0s 6ms/step - loss: 0.3165 - accuracy: 0.9460 - val_loss: 0.3528 - val_accuracy: 0.8960\n",
            "Epoch 39/100\n",
            "47/47 [==============================] - 0s 8ms/step - loss: 0.3073 - accuracy: 0.9440 - val_loss: 0.3449 - val_accuracy: 0.8900\n",
            "Epoch 40/100\n",
            "47/47 [==============================] - 0s 3ms/step - loss: 0.2983 - accuracy: 0.9460 - val_loss: 0.3347 - val_accuracy: 0.9060\n",
            "Epoch 41/100\n",
            "47/47 [==============================] - 0s 3ms/step - loss: 0.2896 - accuracy: 0.9480 - val_loss: 0.3353 - val_accuracy: 0.9000\n",
            "Epoch 42/100\n",
            "47/47 [==============================] - 0s 3ms/step - loss: 0.2833 - accuracy: 0.9427 - val_loss: 0.3230 - val_accuracy: 0.9080\n",
            "Epoch 43/100\n",
            "47/47 [==============================] - 0s 3ms/step - loss: 0.2782 - accuracy: 0.9453 - val_loss: 0.3202 - val_accuracy: 0.9100\n",
            "Epoch 44/100\n",
            "47/47 [==============================] - 0s 3ms/step - loss: 0.2693 - accuracy: 0.9420 - val_loss: 0.3132 - val_accuracy: 0.9060\n",
            "Epoch 45/100\n",
            "47/47 [==============================] - 0s 3ms/step - loss: 0.2605 - accuracy: 0.9520 - val_loss: 0.3000 - val_accuracy: 0.9200\n",
            "Epoch 46/100\n",
            "47/47 [==============================] - 0s 3ms/step - loss: 0.2564 - accuracy: 0.9487 - val_loss: 0.2931 - val_accuracy: 0.9160\n",
            "Epoch 47/100\n",
            "47/47 [==============================] - 0s 3ms/step - loss: 0.2473 - accuracy: 0.9447 - val_loss: 0.2865 - val_accuracy: 0.9180\n",
            "Epoch 48/100\n",
            "47/47 [==============================] - 0s 3ms/step - loss: 0.2443 - accuracy: 0.9453 - val_loss: 0.2843 - val_accuracy: 0.9100\n",
            "Epoch 49/100\n",
            "47/47 [==============================] - 0s 3ms/step - loss: 0.2406 - accuracy: 0.9553 - val_loss: 0.2831 - val_accuracy: 0.9080\n",
            "Epoch 50/100\n",
            "47/47 [==============================] - 0s 3ms/step - loss: 0.2331 - accuracy: 0.9473 - val_loss: 0.2737 - val_accuracy: 0.9220\n",
            "Epoch 51/100\n",
            "47/47 [==============================] - 0s 3ms/step - loss: 0.2238 - accuracy: 0.9547 - val_loss: 0.2629 - val_accuracy: 0.9360\n",
            "Epoch 52/100\n",
            "47/47 [==============================] - 0s 3ms/step - loss: 0.2181 - accuracy: 0.9560 - val_loss: 0.2646 - val_accuracy: 0.9200\n",
            "Epoch 53/100\n",
            "47/47 [==============================] - 0s 3ms/step - loss: 0.2139 - accuracy: 0.9567 - val_loss: 0.2552 - val_accuracy: 0.9300\n",
            "Epoch 54/100\n",
            "47/47 [==============================] - 0s 4ms/step - loss: 0.2086 - accuracy: 0.9660 - val_loss: 0.2490 - val_accuracy: 0.9360\n",
            "Epoch 55/100\n",
            "47/47 [==============================] - 0s 3ms/step - loss: 0.2030 - accuracy: 0.9607 - val_loss: 0.2454 - val_accuracy: 0.9380\n",
            "Epoch 56/100\n",
            "47/47 [==============================] - 0s 3ms/step - loss: 0.1977 - accuracy: 0.9640 - val_loss: 0.2410 - val_accuracy: 0.9360\n",
            "Epoch 57/100\n",
            "47/47 [==============================] - 0s 3ms/step - loss: 0.1928 - accuracy: 0.9693 - val_loss: 0.2385 - val_accuracy: 0.9380\n",
            "Epoch 58/100\n",
            "47/47 [==============================] - 0s 3ms/step - loss: 0.1922 - accuracy: 0.9620 - val_loss: 0.2330 - val_accuracy: 0.9340\n",
            "Epoch 59/100\n",
            "47/47 [==============================] - 0s 3ms/step - loss: 0.1915 - accuracy: 0.9573 - val_loss: 0.2290 - val_accuracy: 0.9320\n",
            "Epoch 60/100\n",
            "47/47 [==============================] - 0s 3ms/step - loss: 0.1810 - accuracy: 0.9707 - val_loss: 0.2300 - val_accuracy: 0.9280\n",
            "Epoch 61/100\n",
            "47/47 [==============================] - 0s 3ms/step - loss: 0.1793 - accuracy: 0.9627 - val_loss: 0.2238 - val_accuracy: 0.9400\n",
            "Epoch 62/100\n",
            "47/47 [==============================] - 0s 4ms/step - loss: 0.1730 - accuracy: 0.9753 - val_loss: 0.2209 - val_accuracy: 0.9360\n",
            "Epoch 63/100\n",
            "47/47 [==============================] - 0s 3ms/step - loss: 0.1697 - accuracy: 0.9687 - val_loss: 0.2133 - val_accuracy: 0.9440\n",
            "Epoch 64/100\n",
            "47/47 [==============================] - 0s 3ms/step - loss: 0.1659 - accuracy: 0.9700 - val_loss: 0.2099 - val_accuracy: 0.9400\n",
            "Epoch 65/100\n",
            "47/47 [==============================] - 0s 3ms/step - loss: 0.1683 - accuracy: 0.9660 - val_loss: 0.2115 - val_accuracy: 0.9320\n",
            "Epoch 66/100\n",
            "47/47 [==============================] - 0s 3ms/step - loss: 0.1605 - accuracy: 0.9700 - val_loss: 0.2038 - val_accuracy: 0.9500\n",
            "Epoch 67/100\n",
            "47/47 [==============================] - 0s 4ms/step - loss: 0.1572 - accuracy: 0.9707 - val_loss: 0.2053 - val_accuracy: 0.9440\n",
            "Epoch 68/100\n",
            "47/47 [==============================] - 0s 3ms/step - loss: 0.1575 - accuracy: 0.9733 - val_loss: 0.2203 - val_accuracy: 0.9180\n",
            "Epoch 69/100\n",
            "47/47 [==============================] - 0s 3ms/step - loss: 0.1489 - accuracy: 0.9800 - val_loss: 0.1988 - val_accuracy: 0.9440\n",
            "Epoch 70/100\n",
            "47/47 [==============================] - 0s 3ms/step - loss: 0.1478 - accuracy: 0.9733 - val_loss: 0.2098 - val_accuracy: 0.9240\n",
            "Epoch 71/100\n",
            "47/47 [==============================] - 0s 3ms/step - loss: 0.1469 - accuracy: 0.9713 - val_loss: 0.1926 - val_accuracy: 0.9480\n",
            "Epoch 72/100\n",
            "47/47 [==============================] - 0s 3ms/step - loss: 0.1421 - accuracy: 0.9787 - val_loss: 0.1942 - val_accuracy: 0.9420\n",
            "Epoch 73/100\n",
            "47/47 [==============================] - 0s 3ms/step - loss: 0.1405 - accuracy: 0.9753 - val_loss: 0.1939 - val_accuracy: 0.9320\n",
            "Epoch 74/100\n",
            "47/47 [==============================] - 0s 3ms/step - loss: 0.1405 - accuracy: 0.9687 - val_loss: 0.1835 - val_accuracy: 0.9540\n",
            "Epoch 75/100\n",
            "47/47 [==============================] - 0s 3ms/step - loss: 0.1359 - accuracy: 0.9727 - val_loss: 0.1883 - val_accuracy: 0.9500\n",
            "Epoch 76/100\n",
            "47/47 [==============================] - 0s 3ms/step - loss: 0.1340 - accuracy: 0.9747 - val_loss: 0.1835 - val_accuracy: 0.9440\n",
            "Epoch 77/100\n",
            "47/47 [==============================] - 0s 3ms/step - loss: 0.1287 - accuracy: 0.9787 - val_loss: 0.1807 - val_accuracy: 0.9500\n",
            "Epoch 78/100\n",
            "47/47 [==============================] - 0s 3ms/step - loss: 0.1266 - accuracy: 0.9767 - val_loss: 0.1840 - val_accuracy: 0.9400\n",
            "Epoch 79/100\n",
            "47/47 [==============================] - 0s 3ms/step - loss: 0.1263 - accuracy: 0.9787 - val_loss: 0.1789 - val_accuracy: 0.9540\n",
            "Epoch 80/100\n",
            "47/47 [==============================] - 0s 4ms/step - loss: 0.1224 - accuracy: 0.9793 - val_loss: 0.1760 - val_accuracy: 0.9500\n",
            "Epoch 81/100\n",
            "47/47 [==============================] - 0s 4ms/step - loss: 0.1205 - accuracy: 0.9820 - val_loss: 0.1782 - val_accuracy: 0.9540\n",
            "Epoch 82/100\n",
            "47/47 [==============================] - 0s 3ms/step - loss: 0.1191 - accuracy: 0.9793 - val_loss: 0.1728 - val_accuracy: 0.9480\n",
            "Epoch 83/100\n",
            "47/47 [==============================] - 0s 3ms/step - loss: 0.1157 - accuracy: 0.9800 - val_loss: 0.1672 - val_accuracy: 0.9500\n",
            "Epoch 84/100\n",
            "47/47 [==============================] - 0s 3ms/step - loss: 0.1142 - accuracy: 0.9820 - val_loss: 0.1840 - val_accuracy: 0.9360\n",
            "Epoch 85/100\n",
            "47/47 [==============================] - 0s 3ms/step - loss: 0.1158 - accuracy: 0.9740 - val_loss: 0.1682 - val_accuracy: 0.9540\n",
            "Epoch 86/100\n",
            "47/47 [==============================] - 0s 3ms/step - loss: 0.1107 - accuracy: 0.9767 - val_loss: 0.1636 - val_accuracy: 0.9500\n",
            "Epoch 87/100\n",
            "47/47 [==============================] - 0s 3ms/step - loss: 0.1102 - accuracy: 0.9773 - val_loss: 0.1651 - val_accuracy: 0.9540\n",
            "Epoch 88/100\n",
            "47/47 [==============================] - 0s 3ms/step - loss: 0.1089 - accuracy: 0.9793 - val_loss: 0.1619 - val_accuracy: 0.9540\n",
            "Epoch 89/100\n",
            "47/47 [==============================] - 0s 4ms/step - loss: 0.1082 - accuracy: 0.9827 - val_loss: 0.1640 - val_accuracy: 0.9520\n",
            "Epoch 90/100\n",
            "47/47 [==============================] - 0s 4ms/step - loss: 0.1040 - accuracy: 0.9840 - val_loss: 0.1625 - val_accuracy: 0.9460\n",
            "Epoch 91/100\n",
            "47/47 [==============================] - 0s 3ms/step - loss: 0.1020 - accuracy: 0.9820 - val_loss: 0.1623 - val_accuracy: 0.9460\n",
            "Epoch 92/100\n",
            "47/47 [==============================] - 0s 3ms/step - loss: 0.0995 - accuracy: 0.9880 - val_loss: 0.1613 - val_accuracy: 0.9440\n",
            "Epoch 93/100\n",
            "47/47 [==============================] - 0s 3ms/step - loss: 0.0990 - accuracy: 0.9833 - val_loss: 0.1590 - val_accuracy: 0.9440\n",
            "Epoch 94/100\n",
            "47/47 [==============================] - 0s 3ms/step - loss: 0.0995 - accuracy: 0.9833 - val_loss: 0.1584 - val_accuracy: 0.9480\n",
            "Epoch 95/100\n",
            "47/47 [==============================] - 0s 3ms/step - loss: 0.0993 - accuracy: 0.9813 - val_loss: 0.1550 - val_accuracy: 0.9460\n",
            "Epoch 96/100\n",
            "47/47 [==============================] - 0s 3ms/step - loss: 0.0941 - accuracy: 0.9873 - val_loss: 0.1520 - val_accuracy: 0.9480\n",
            "Epoch 97/100\n",
            "47/47 [==============================] - 0s 3ms/step - loss: 0.0941 - accuracy: 0.9833 - val_loss: 0.1481 - val_accuracy: 0.9560\n",
            "Epoch 98/100\n",
            "47/47 [==============================] - 0s 3ms/step - loss: 0.0924 - accuracy: 0.9800 - val_loss: 0.1551 - val_accuracy: 0.9500\n",
            "Epoch 99/100\n",
            "47/47 [==============================] - 0s 3ms/step - loss: 0.0938 - accuracy: 0.9833 - val_loss: 0.1740 - val_accuracy: 0.9280\n",
            "Epoch 100/100\n",
            "47/47 [==============================] - 0s 3ms/step - loss: 0.0937 - accuracy: 0.9793 - val_loss: 0.1515 - val_accuracy: 0.9520\n"
          ]
        }
      ]
    },
    {
      "cell_type": "markdown",
      "source": [
        "ANN clasifier has been modelled with Accuracy 0.98 and Val_accuracy 0.95\n",
        "\n",
        "Scaler applied is MinMax Scaler"
      ],
      "metadata": {
        "id": "4zCrEvjsQUb4"
      }
    },
    {
      "cell_type": "code",
      "source": [
        "y_pred = model.predict(X_test)"
      ],
      "metadata": {
        "colab": {
          "base_uri": "https://localhost:8080/"
        },
        "id": "OYHpdQNrfk5U",
        "outputId": "050ce222-3fd7-4477-d9b4-0f201d4364c0"
      },
      "execution_count": 21,
      "outputs": [
        {
          "output_type": "stream",
          "name": "stdout",
          "text": [
            "16/16 [==============================] - 0s 1ms/step\n"
          ]
        }
      ]
    },
    {
      "cell_type": "code",
      "source": [
        "y_pred"
      ],
      "metadata": {
        "colab": {
          "base_uri": "https://localhost:8080/"
        },
        "id": "wFHbaVlmf7oF",
        "outputId": "df5d017d-3d2b-434a-e06d-207371fcc21a"
      },
      "execution_count": 22,
      "outputs": [
        {
          "output_type": "execute_result",
          "data": {
            "text/plain": [
              "array([[1.11042414e-06, 2.57399050e-04, 9.13549401e-03, 9.90606010e-01],\n",
              "       [1.24575615e-06, 3.00590938e-04, 1.05846571e-02, 9.89113450e-01],\n",
              "       [4.50191874e-04, 1.03630155e-01, 8.92564535e-01, 3.35516245e-03],\n",
              "       ...,\n",
              "       [3.15691754e-02, 9.66441751e-01, 1.95795554e-03, 3.11195436e-05],\n",
              "       [6.02939129e-01, 3.95901561e-01, 1.13218476e-03, 2.70724486e-05],\n",
              "       [8.81365314e-03, 9.21516120e-01, 6.90327510e-02, 6.37465098e-04]],\n",
              "      dtype=float32)"
            ]
          },
          "metadata": {},
          "execution_count": 22
        }
      ]
    },
    {
      "cell_type": "code",
      "source": [
        "model.summary()"
      ],
      "metadata": {
        "colab": {
          "base_uri": "https://localhost:8080/"
        },
        "id": "ho0vY66W7bSA",
        "outputId": "dafb516b-e48f-4861-9f66-6d27228fd72c"
      },
      "execution_count": 23,
      "outputs": [
        {
          "output_type": "stream",
          "name": "stdout",
          "text": [
            "Model: \"sequential\"\n",
            "_________________________________________________________________\n",
            " Layer (type)                Output Shape              Param #   \n",
            "=================================================================\n",
            " dense (Dense)               (None, 32)                672       \n",
            "                                                                 \n",
            " dense_1 (Dense)             (None, 10)                330       \n",
            "                                                                 \n",
            " dense_2 (Dense)             (None, 4)                 44        \n",
            "                                                                 \n",
            "=================================================================\n",
            "Total params: 1,046\n",
            "Trainable params: 1,046\n",
            "Non-trainable params: 0\n",
            "_________________________________________________________________\n"
          ]
        }
      ]
    },
    {
      "cell_type": "code",
      "source": [
        "import matplotlib.pyplot as plt\n",
        "plt.plot(history.history['accuracy'], label='accuracy')\n",
        "plt.plot(history.history['val_accuracy'], label = 'val_accuracy')\n",
        "plt.xlabel('Epoch')\n",
        "plt.ylabel('Accuracy')\n",
        "\n",
        "plt.legend(loc='lower right')"
      ],
      "metadata": {
        "colab": {
          "base_uri": "https://localhost:8080/",
          "height": 297
        },
        "id": "hF46hM-c7jQy",
        "outputId": "6ed7be71-39d0-499c-94f3-c28a27c51734"
      },
      "execution_count": 25,
      "outputs": [
        {
          "output_type": "execute_result",
          "data": {
            "text/plain": [
              "<matplotlib.legend.Legend at 0x7fcc076a0b90>"
            ]
          },
          "metadata": {},
          "execution_count": 25
        },
        {
          "output_type": "display_data",
          "data": {
            "text/plain": [
              "<Figure size 432x288 with 1 Axes>"
            ],
            "image/png": "[encoded data removed]"
          },
          "metadata": {
            "needs_background": "light"
          }
        }
      ]
    },
    {
      "cell_type": "code",
      "source": [
        "from tensorflow.keras.utils import plot_model\n",
        "model_img_file = 'model.png'\n",
        "plot_model(model, to_file=model_img_file, \n",
        "                          show_shapes=True, \n",
        "                          show_layer_activations=True, \n",
        "                          show_dtype=True,\n",
        "                          show_layer_names=True )"
      ],
      "metadata": {
        "colab": {
          "base_uri": "https://localhost:8080/",
          "height": 545
        },
        "id": "dsdGQMUF9N6s",
        "outputId": "28bbc8b0-738e-4bfc-aeb8-190c9623af78"
      },
      "execution_count": 26,
      "outputs": [
        {
          "output_type": "execute_result",
          "data": {
            "image/png": "[encoded data removed]",
            "text/plain": [
              "<IPython.core.display.Image object>"
            ]
          },
          "metadata": {},
          "execution_count": 26
        }
      ]
    },
    {
      "cell_type": "markdown",
      "source": [
        "## ANN Classifier Modelling with Standard Scaler "
      ],
      "metadata": {
        "id": "IECD1UcmRI2O"
      }
    },
    {
      "cell_type": "code",
      "source": [
        "from sklearn.preprocessing import StandardScaler\n",
        "#scaler = StandardScaler()\n",
        "#scaler.fit(data)\n",
        "#data = scaler.transform(data)\n",
        "\n",
        "\n",
        "cols_to_scale = ['battery_power', 'front_cam','int_memory','mobile_wt','n_cores','primary_camera','px_height','px_width','ram', 'sc_h','sc_w','talk_time' ]\n",
        "scaler = StandardScaler()\n",
        "scaler.fit(data[cols_to_scale])\n",
        "data[cols_to_scale] = scaler.transform(data[cols_to_scale])"
      ],
      "metadata": {
        "id": "NlPeJclk-4ee"
      },
      "execution_count": 27,
      "outputs": []
    },
    {
      "cell_type": "code",
      "source": [
        "from sklearn.preprocessing import StandardScaler\n",
        "\n",
        "cols_to_scale = ['clock_speed', 'm_dep' ]\n",
        "scaler = StandardScaler()\n",
        "scaler.fit(data[cols_to_scale])\n",
        "data[cols_to_scale] = scaler.transform(data[cols_to_scale])"
      ],
      "metadata": {
        "id": "vTneQ_6o_BJy"
      },
      "execution_count": 28,
      "outputs": []
    },
    {
      "cell_type": "code",
      "source": [
        "data.head"
      ],
      "metadata": {
        "colab": {
          "base_uri": "https://localhost:8080/"
        },
        "id": "E6Xho0iv_JLr",
        "outputId": "6f75b49a-0827-4562-c66d-51afec1deca1"
      },
      "execution_count": 29,
      "outputs": [
        {
          "output_type": "execute_result",
          "data": {
            "text/plain": [
              "<bound method NDFrame.head of       battery_power  bluetooth  clock_speed  dual_sim  front_cam  4G  \\\n",
              "0         -0.902597          0     0.830779         0  -0.762495   0   \n",
              "1         -0.495139          1    -1.253064         1  -0.992890   1   \n",
              "2         -1.537686          1    -1.253064         1  -0.532099   1   \n",
              "3         -1.419319          1     1.198517         0  -0.992890   0   \n",
              "4          1.325906          1    -0.395011         0   2.002254   1   \n",
              "...             ...        ...          ...       ...        ...  ..   \n",
              "1995      -1.011860          1    -1.253064         1  -0.992890   1   \n",
              "1996       1.653694          1     1.321096         1  -0.992890   0   \n",
              "1997       1.530773          0    -0.762748         1  -0.762495   1   \n",
              "1998       0.622527          0    -0.762748         0  -0.071307   1   \n",
              "1999      -1.658331          1     0.585621         1   0.159088   1   \n",
              "\n",
              "      int_memory     m_dep  mobile_wt   n_cores  primary_camera  px_height  \\\n",
              "0      -1.380644  0.340740   1.349249 -1.101971       -1.305750  -1.408949   \n",
              "1       1.155024  0.687548  -0.120059 -0.664768       -0.645989   0.585778   \n",
              "2       0.493546  1.381165   0.134244  0.209639       -0.645989   1.392684   \n",
              "3      -1.215274  1.034357  -0.261339  0.646842       -0.151168   1.286750   \n",
              "4       0.658915  0.340740   0.021220 -1.101971        0.673534   1.268718   \n",
              "...          ...       ...        ...       ...             ...        ...   \n",
              "1995   -1.656260  1.034357  -0.967737  0.646842        0.673534   1.300273   \n",
              "1996    0.383299 -1.046495   1.320993 -0.227564       -1.140810   0.608317   \n",
              "1997    0.217930  0.687548  -0.911225  1.521249       -1.140810   0.502383   \n",
              "1998    0.769162 -1.393304   0.134244  0.209639       -0.810929  -0.696707   \n",
              "1999    0.714039  1.381165   0.784130  0.646842        1.003414  -0.365380   \n",
              "\n",
              "      px_width       ram      sc_h      sc_w  talk_time  three_g  \\\n",
              "0    -1.146784  0.391703 -0.784983  0.283103   1.462493        0   \n",
              "1     1.704465  0.467317  1.114266 -0.635317  -0.734267        1   \n",
              "2     1.074968  0.441498 -0.310171 -0.864922  -0.368140        1   \n",
              "3     1.236971  0.594569  0.876859  0.512708  -0.002014        1   \n",
              "4    -0.091452 -0.657666 -1.022389 -0.864922   0.730240        1   \n",
              "...        ...       ...       ...       ...        ...      ...   \n",
              "1995  1.477661 -1.342799  0.164641 -0.405712   1.462493        1   \n",
              "1996  1.651235 -0.085031 -0.310171  0.971917   0.913303        1   \n",
              "1997  0.880565  0.860139 -0.784983 -1.094526  -1.100394        1   \n",
              "1998 -1.345816 -1.157454  1.351672  0.971917   1.462493        1   \n",
              "1999 -1.151413  1.655004  1.589078 -0.405712  -1.649584        1   \n",
              "\n",
              "      touch_screen  wifi  \n",
              "0                0     1  \n",
              "1                1     0  \n",
              "2                1     0  \n",
              "3                0     0  \n",
              "4                1     0  \n",
              "...            ...   ...  \n",
              "1995             1     0  \n",
              "1996             1     1  \n",
              "1997             1     0  \n",
              "1998             1     1  \n",
              "1999             1     1  \n",
              "\n",
              "[2000 rows x 20 columns]>"
            ]
          },
          "metadata": {},
          "execution_count": 29
        }
      ]
    },
    {
      "cell_type": "code",
      "source": [
        "from sklearn.model_selection import train_test_split\n",
        "X_train, X_test, y_train, y_test = train_test_split(data, label, test_size=0.25, random_state=10)"
      ],
      "metadata": {
        "id": "QuC2c4xs_MUh"
      },
      "execution_count": 30,
      "outputs": []
    },
    {
      "cell_type": "code",
      "source": [
        "from keras.models import Sequential\n",
        "from keras.layers import Dense"
      ],
      "metadata": {
        "id": "tRNW5Wb__R2s"
      },
      "execution_count": 31,
      "outputs": []
    },
    {
      "cell_type": "code",
      "source": [
        "model = Sequential()\n",
        "model.add(Dense(32,activation='relu'))\n",
        "model.add(Dense(10,activation='sigmoid'))\n",
        "model.add(Dense(4,activation='softmax'))"
      ],
      "metadata": {
        "id": "k6xhwmXE_WJ_"
      },
      "execution_count": 32,
      "outputs": []
    },
    {
      "cell_type": "code",
      "source": [
        "model.compile(optimizer='adam', loss='sparse_categorical_crossentropy', metrics=['accuracy'])"
      ],
      "metadata": {
        "id": "WFT1r2M4_blu"
      },
      "execution_count": 33,
      "outputs": []
    },
    {
      "cell_type": "code",
      "source": [
        "history = model.fit(X_train, y_train, validation_data=(X_test, y_test), epochs=100)"
      ],
      "metadata": {
        "colab": {
          "base_uri": "https://localhost:8080/"
        },
        "id": "YlM5qOiT_fqx",
        "outputId": "58afb534-52c6-40a4-80e1-795059817748"
      },
      "execution_count": 34,
      "outputs": [
        {
          "output_type": "stream",
          "name": "stdout",
          "text": [
            "Epoch 1/100\n",
            "47/47 [==============================] - 1s 6ms/step - loss: 1.4285 - accuracy: 0.2493 - val_loss: 1.3819 - val_accuracy: 0.2620\n",
            "Epoch 2/100\n",
            "47/47 [==============================] - 0s 4ms/step - loss: 1.3495 - accuracy: 0.2873 - val_loss: 1.3366 - val_accuracy: 0.3280\n",
            "Epoch 3/100\n",
            "47/47 [==============================] - 0s 4ms/step - loss: 1.2989 - accuracy: 0.4413 - val_loss: 1.2915 - val_accuracy: 0.4620\n",
            "Epoch 4/100\n",
            "47/47 [==============================] - 0s 3ms/step - loss: 1.2407 - accuracy: 0.5840 - val_loss: 1.2305 - val_accuracy: 0.5380\n",
            "Epoch 5/100\n",
            "47/47 [==============================] - 0s 4ms/step - loss: 1.1670 - accuracy: 0.5920 - val_loss: 1.1532 - val_accuracy: 0.5560\n",
            "Epoch 6/100\n",
            "47/47 [==============================] - 0s 3ms/step - loss: 1.0830 - accuracy: 0.6453 - val_loss: 1.0722 - val_accuracy: 0.6080\n",
            "Epoch 7/100\n",
            "47/47 [==============================] - 0s 4ms/step - loss: 1.0044 - accuracy: 0.6920 - val_loss: 0.9994 - val_accuracy: 0.6480\n",
            "Epoch 8/100\n",
            "47/47 [==============================] - 0s 3ms/step - loss: 0.9366 - accuracy: 0.7300 - val_loss: 0.9373 - val_accuracy: 0.6960\n",
            "Epoch 9/100\n",
            "47/47 [==============================] - 0s 3ms/step - loss: 0.8787 - accuracy: 0.7613 - val_loss: 0.8816 - val_accuracy: 0.7460\n",
            "Epoch 10/100\n",
            "47/47 [==============================] - 0s 3ms/step - loss: 0.8261 - accuracy: 0.8120 - val_loss: 0.8307 - val_accuracy: 0.7780\n",
            "Epoch 11/100\n",
            "47/47 [==============================] - 0s 3ms/step - loss: 0.7785 - accuracy: 0.8220 - val_loss: 0.7838 - val_accuracy: 0.8060\n",
            "Epoch 12/100\n",
            "47/47 [==============================] - 0s 3ms/step - loss: 0.7311 - accuracy: 0.8540 - val_loss: 0.7375 - val_accuracy: 0.8400\n",
            "Epoch 13/100\n",
            "47/47 [==============================] - 0s 3ms/step - loss: 0.6859 - accuracy: 0.8647 - val_loss: 0.6920 - val_accuracy: 0.8640\n",
            "Epoch 14/100\n",
            "47/47 [==============================] - 0s 3ms/step - loss: 0.6419 - accuracy: 0.8907 - val_loss: 0.6493 - val_accuracy: 0.8640\n",
            "Epoch 15/100\n",
            "47/47 [==============================] - 0s 4ms/step - loss: 0.6015 - accuracy: 0.9000 - val_loss: 0.6101 - val_accuracy: 0.8760\n",
            "Epoch 16/100\n",
            "47/47 [==============================] - 0s 3ms/step - loss: 0.5640 - accuracy: 0.9133 - val_loss: 0.5752 - val_accuracy: 0.8820\n",
            "Epoch 17/100\n",
            "47/47 [==============================] - 0s 3ms/step - loss: 0.5313 - accuracy: 0.9173 - val_loss: 0.5469 - val_accuracy: 0.8860\n",
            "Epoch 18/100\n",
            "47/47 [==============================] - 0s 4ms/step - loss: 0.4999 - accuracy: 0.9187 - val_loss: 0.5163 - val_accuracy: 0.8960\n",
            "Epoch 19/100\n",
            "47/47 [==============================] - 0s 3ms/step - loss: 0.4721 - accuracy: 0.9240 - val_loss: 0.4922 - val_accuracy: 0.9060\n",
            "Epoch 20/100\n",
            "47/47 [==============================] - 0s 3ms/step - loss: 0.4466 - accuracy: 0.9347 - val_loss: 0.4694 - val_accuracy: 0.8920\n",
            "Epoch 21/100\n",
            "47/47 [==============================] - 0s 3ms/step - loss: 0.4218 - accuracy: 0.9347 - val_loss: 0.4460 - val_accuracy: 0.9060\n",
            "Epoch 22/100\n",
            "47/47 [==============================] - 0s 3ms/step - loss: 0.4018 - accuracy: 0.9320 - val_loss: 0.4253 - val_accuracy: 0.9120\n",
            "Epoch 23/100\n",
            "47/47 [==============================] - 0s 3ms/step - loss: 0.3791 - accuracy: 0.9453 - val_loss: 0.4079 - val_accuracy: 0.9040\n",
            "Epoch 24/100\n",
            "47/47 [==============================] - 0s 3ms/step - loss: 0.3587 - accuracy: 0.9440 - val_loss: 0.3890 - val_accuracy: 0.9100\n",
            "Epoch 25/100\n",
            "47/47 [==============================] - 0s 4ms/step - loss: 0.3406 - accuracy: 0.9480 - val_loss: 0.3746 - val_accuracy: 0.9100\n",
            "Epoch 26/100\n",
            "47/47 [==============================] - 0s 3ms/step - loss: 0.3237 - accuracy: 0.9500 - val_loss: 0.3598 - val_accuracy: 0.9140\n",
            "Epoch 27/100\n",
            "47/47 [==============================] - 0s 3ms/step - loss: 0.3084 - accuracy: 0.9513 - val_loss: 0.3417 - val_accuracy: 0.9180\n",
            "Epoch 28/100\n",
            "47/47 [==============================] - 0s 3ms/step - loss: 0.2922 - accuracy: 0.9547 - val_loss: 0.3314 - val_accuracy: 0.9220\n",
            "Epoch 29/100\n",
            "47/47 [==============================] - 0s 3ms/step - loss: 0.2790 - accuracy: 0.9587 - val_loss: 0.3179 - val_accuracy: 0.9240\n",
            "Epoch 30/100\n",
            "47/47 [==============================] - 0s 3ms/step - loss: 0.2663 - accuracy: 0.9613 - val_loss: 0.3065 - val_accuracy: 0.9220\n",
            "Epoch 31/100\n",
            "47/47 [==============================] - 0s 3ms/step - loss: 0.2539 - accuracy: 0.9620 - val_loss: 0.3013 - val_accuracy: 0.9220\n",
            "Epoch 32/100\n",
            "47/47 [==============================] - 0s 4ms/step - loss: 0.2409 - accuracy: 0.9687 - val_loss: 0.2840 - val_accuracy: 0.9340\n",
            "Epoch 33/100\n",
            "47/47 [==============================] - 0s 5ms/step - loss: 0.2305 - accuracy: 0.9680 - val_loss: 0.2776 - val_accuracy: 0.9340\n",
            "Epoch 34/100\n",
            "47/47 [==============================] - 0s 5ms/step - loss: 0.2200 - accuracy: 0.9693 - val_loss: 0.2680 - val_accuracy: 0.9260\n",
            "Epoch 35/100\n",
            "47/47 [==============================] - 0s 4ms/step - loss: 0.2098 - accuracy: 0.9707 - val_loss: 0.2599 - val_accuracy: 0.9280\n",
            "Epoch 36/100\n",
            "47/47 [==============================] - 0s 5ms/step - loss: 0.2002 - accuracy: 0.9747 - val_loss: 0.2551 - val_accuracy: 0.9280\n",
            "Epoch 37/100\n",
            "47/47 [==============================] - 0s 5ms/step - loss: 0.1920 - accuracy: 0.9780 - val_loss: 0.2437 - val_accuracy: 0.9400\n",
            "Epoch 38/100\n",
            "47/47 [==============================] - 0s 5ms/step - loss: 0.1833 - accuracy: 0.9753 - val_loss: 0.2410 - val_accuracy: 0.9360\n",
            "Epoch 39/100\n",
            "47/47 [==============================] - 0s 4ms/step - loss: 0.1763 - accuracy: 0.9780 - val_loss: 0.2380 - val_accuracy: 0.9320\n",
            "Epoch 40/100\n",
            "47/47 [==============================] - 0s 4ms/step - loss: 0.1700 - accuracy: 0.9787 - val_loss: 0.2268 - val_accuracy: 0.9360\n",
            "Epoch 41/100\n",
            "47/47 [==============================] - 0s 5ms/step - loss: 0.1628 - accuracy: 0.9800 - val_loss: 0.2217 - val_accuracy: 0.9380\n",
            "Epoch 42/100\n",
            "47/47 [==============================] - 0s 5ms/step - loss: 0.1558 - accuracy: 0.9787 - val_loss: 0.2111 - val_accuracy: 0.9440\n",
            "Epoch 43/100\n",
            "47/47 [==============================] - 0s 5ms/step - loss: 0.1492 - accuracy: 0.9833 - val_loss: 0.2090 - val_accuracy: 0.9460\n",
            "Epoch 44/100\n",
            "47/47 [==============================] - 0s 3ms/step - loss: 0.1430 - accuracy: 0.9840 - val_loss: 0.2077 - val_accuracy: 0.9400\n",
            "Epoch 45/100\n",
            "47/47 [==============================] - 0s 3ms/step - loss: 0.1371 - accuracy: 0.9867 - val_loss: 0.2028 - val_accuracy: 0.9460\n",
            "Epoch 46/100\n",
            "47/47 [==============================] - 0s 3ms/step - loss: 0.1318 - accuracy: 0.9853 - val_loss: 0.1991 - val_accuracy: 0.9380\n",
            "Epoch 47/100\n",
            "47/47 [==============================] - 0s 3ms/step - loss: 0.1282 - accuracy: 0.9887 - val_loss: 0.1957 - val_accuracy: 0.9440\n",
            "Epoch 48/100\n",
            "47/47 [==============================] - 0s 4ms/step - loss: 0.1222 - accuracy: 0.9880 - val_loss: 0.1927 - val_accuracy: 0.9440\n",
            "Epoch 49/100\n",
            "47/47 [==============================] - 0s 3ms/step - loss: 0.1183 - accuracy: 0.9887 - val_loss: 0.1924 - val_accuracy: 0.9420\n",
            "Epoch 50/100\n",
            "47/47 [==============================] - 0s 3ms/step - loss: 0.1140 - accuracy: 0.9880 - val_loss: 0.1858 - val_accuracy: 0.9480\n",
            "Epoch 51/100\n",
            "47/47 [==============================] - 0s 4ms/step - loss: 0.1091 - accuracy: 0.9900 - val_loss: 0.1833 - val_accuracy: 0.9480\n",
            "Epoch 52/100\n",
            "47/47 [==============================] - 0s 3ms/step - loss: 0.1052 - accuracy: 0.9900 - val_loss: 0.1802 - val_accuracy: 0.9460\n",
            "Epoch 53/100\n",
            "47/47 [==============================] - 0s 3ms/step - loss: 0.1026 - accuracy: 0.9900 - val_loss: 0.1791 - val_accuracy: 0.9460\n",
            "Epoch 54/100\n",
            "47/47 [==============================] - 0s 3ms/step - loss: 0.0982 - accuracy: 0.9907 - val_loss: 0.1757 - val_accuracy: 0.9500\n",
            "Epoch 55/100\n",
            "47/47 [==============================] - 0s 3ms/step - loss: 0.0946 - accuracy: 0.9913 - val_loss: 0.1741 - val_accuracy: 0.9420\n",
            "Epoch 56/100\n",
            "47/47 [==============================] - 0s 3ms/step - loss: 0.0915 - accuracy: 0.9927 - val_loss: 0.1669 - val_accuracy: 0.9440\n",
            "Epoch 57/100\n",
            "47/47 [==============================] - 0s 3ms/step - loss: 0.0890 - accuracy: 0.9927 - val_loss: 0.1719 - val_accuracy: 0.9440\n",
            "Epoch 58/100\n",
            "47/47 [==============================] - 0s 4ms/step - loss: 0.0852 - accuracy: 0.9927 - val_loss: 0.1675 - val_accuracy: 0.9460\n",
            "Epoch 59/100\n",
            "47/47 [==============================] - 0s 3ms/step - loss: 0.0827 - accuracy: 0.9927 - val_loss: 0.1714 - val_accuracy: 0.9400\n",
            "Epoch 60/100\n",
            "47/47 [==============================] - 0s 3ms/step - loss: 0.0799 - accuracy: 0.9920 - val_loss: 0.1661 - val_accuracy: 0.9440\n",
            "Epoch 61/100\n",
            "47/47 [==============================] - 0s 3ms/step - loss: 0.0771 - accuracy: 0.9940 - val_loss: 0.1701 - val_accuracy: 0.9400\n",
            "Epoch 62/100\n",
            "47/47 [==============================] - 0s 3ms/step - loss: 0.0754 - accuracy: 0.9947 - val_loss: 0.1638 - val_accuracy: 0.9400\n",
            "Epoch 63/100\n",
            "47/47 [==============================] - 0s 3ms/step - loss: 0.0724 - accuracy: 0.9940 - val_loss: 0.1600 - val_accuracy: 0.9380\n",
            "Epoch 64/100\n",
            "47/47 [==============================] - 0s 3ms/step - loss: 0.0695 - accuracy: 0.9947 - val_loss: 0.1659 - val_accuracy: 0.9400\n",
            "Epoch 65/100\n",
            "47/47 [==============================] - 0s 3ms/step - loss: 0.0677 - accuracy: 0.9967 - val_loss: 0.1598 - val_accuracy: 0.9380\n",
            "Epoch 66/100\n",
            "47/47 [==============================] - 0s 3ms/step - loss: 0.0653 - accuracy: 0.9967 - val_loss: 0.1542 - val_accuracy: 0.9420\n",
            "Epoch 67/100\n",
            "47/47 [==============================] - 0s 3ms/step - loss: 0.0633 - accuracy: 0.9953 - val_loss: 0.1606 - val_accuracy: 0.9420\n",
            "Epoch 68/100\n",
            "47/47 [==============================] - 0s 4ms/step - loss: 0.0607 - accuracy: 0.9973 - val_loss: 0.1534 - val_accuracy: 0.9400\n",
            "Epoch 69/100\n",
            "47/47 [==============================] - 0s 3ms/step - loss: 0.0600 - accuracy: 0.9980 - val_loss: 0.1512 - val_accuracy: 0.9440\n",
            "Epoch 70/100\n",
            "47/47 [==============================] - 0s 4ms/step - loss: 0.0575 - accuracy: 0.9973 - val_loss: 0.1591 - val_accuracy: 0.9400\n",
            "Epoch 71/100\n",
            "47/47 [==============================] - 0s 3ms/step - loss: 0.0552 - accuracy: 0.9973 - val_loss: 0.1567 - val_accuracy: 0.9400\n",
            "Epoch 72/100\n",
            "47/47 [==============================] - 0s 3ms/step - loss: 0.0543 - accuracy: 0.9980 - val_loss: 0.1562 - val_accuracy: 0.9340\n",
            "Epoch 73/100\n",
            "47/47 [==============================] - 0s 4ms/step - loss: 0.0526 - accuracy: 0.9973 - val_loss: 0.1483 - val_accuracy: 0.9440\n",
            "Epoch 74/100\n",
            "47/47 [==============================] - 0s 3ms/step - loss: 0.0506 - accuracy: 0.9993 - val_loss: 0.1541 - val_accuracy: 0.9360\n",
            "Epoch 75/100\n",
            "47/47 [==============================] - 0s 3ms/step - loss: 0.0496 - accuracy: 0.9987 - val_loss: 0.1536 - val_accuracy: 0.9420\n",
            "Epoch 76/100\n",
            "47/47 [==============================] - 0s 4ms/step - loss: 0.0476 - accuracy: 0.9973 - val_loss: 0.1487 - val_accuracy: 0.9420\n",
            "Epoch 77/100\n",
            "47/47 [==============================] - 0s 3ms/step - loss: 0.0465 - accuracy: 0.9987 - val_loss: 0.1537 - val_accuracy: 0.9340\n",
            "Epoch 78/100\n",
            "47/47 [==============================] - 0s 3ms/step - loss: 0.0444 - accuracy: 0.9987 - val_loss: 0.1574 - val_accuracy: 0.9340\n",
            "Epoch 79/100\n",
            "47/47 [==============================] - 0s 3ms/step - loss: 0.0432 - accuracy: 0.9987 - val_loss: 0.1568 - val_accuracy: 0.9400\n",
            "Epoch 80/100\n",
            "47/47 [==============================] - 0s 3ms/step - loss: 0.0419 - accuracy: 1.0000 - val_loss: 0.1545 - val_accuracy: 0.9340\n",
            "Epoch 81/100\n",
            "47/47 [==============================] - 0s 3ms/step - loss: 0.0404 - accuracy: 1.0000 - val_loss: 0.1483 - val_accuracy: 0.9440\n",
            "Epoch 82/100\n",
            "47/47 [==============================] - 0s 3ms/step - loss: 0.0397 - accuracy: 0.9987 - val_loss: 0.1496 - val_accuracy: 0.9380\n",
            "Epoch 83/100\n",
            "47/47 [==============================] - 0s 3ms/step - loss: 0.0386 - accuracy: 0.9993 - val_loss: 0.1501 - val_accuracy: 0.9360\n",
            "Epoch 84/100\n",
            "47/47 [==============================] - 0s 3ms/step - loss: 0.0366 - accuracy: 1.0000 - val_loss: 0.1558 - val_accuracy: 0.9340\n",
            "Epoch 85/100\n",
            "47/47 [==============================] - 0s 3ms/step - loss: 0.0355 - accuracy: 1.0000 - val_loss: 0.1509 - val_accuracy: 0.9380\n",
            "Epoch 86/100\n",
            "47/47 [==============================] - 0s 3ms/step - loss: 0.0354 - accuracy: 1.0000 - val_loss: 0.1523 - val_accuracy: 0.9320\n",
            "Epoch 87/100\n",
            "47/47 [==============================] - 0s 4ms/step - loss: 0.0342 - accuracy: 0.9993 - val_loss: 0.1607 - val_accuracy: 0.9340\n",
            "Epoch 88/100\n",
            "47/47 [==============================] - 0s 3ms/step - loss: 0.0335 - accuracy: 1.0000 - val_loss: 0.1568 - val_accuracy: 0.9360\n",
            "Epoch 89/100\n",
            "47/47 [==============================] - 0s 4ms/step - loss: 0.0318 - accuracy: 0.9993 - val_loss: 0.1516 - val_accuracy: 0.9380\n",
            "Epoch 90/100\n",
            "47/47 [==============================] - 0s 3ms/step - loss: 0.0308 - accuracy: 1.0000 - val_loss: 0.1549 - val_accuracy: 0.9320\n",
            "Epoch 91/100\n",
            "47/47 [==============================] - 0s 4ms/step - loss: 0.0295 - accuracy: 1.0000 - val_loss: 0.1541 - val_accuracy: 0.9320\n",
            "Epoch 92/100\n",
            "47/47 [==============================] - 0s 3ms/step - loss: 0.0289 - accuracy: 1.0000 - val_loss: 0.1578 - val_accuracy: 0.9360\n",
            "Epoch 93/100\n",
            "47/47 [==============================] - 0s 4ms/step - loss: 0.0281 - accuracy: 1.0000 - val_loss: 0.1508 - val_accuracy: 0.9360\n",
            "Epoch 94/100\n",
            "47/47 [==============================] - 0s 3ms/step - loss: 0.0276 - accuracy: 1.0000 - val_loss: 0.1543 - val_accuracy: 0.9360\n",
            "Epoch 95/100\n",
            "47/47 [==============================] - 0s 3ms/step - loss: 0.0263 - accuracy: 1.0000 - val_loss: 0.1545 - val_accuracy: 0.9380\n",
            "Epoch 96/100\n",
            "47/47 [==============================] - 0s 4ms/step - loss: 0.0261 - accuracy: 1.0000 - val_loss: 0.1624 - val_accuracy: 0.9320\n",
            "Epoch 97/100\n",
            "47/47 [==============================] - 0s 4ms/step - loss: 0.0253 - accuracy: 1.0000 - val_loss: 0.1516 - val_accuracy: 0.9380\n",
            "Epoch 98/100\n",
            "47/47 [==============================] - 0s 4ms/step - loss: 0.0246 - accuracy: 1.0000 - val_loss: 0.1566 - val_accuracy: 0.9360\n",
            "Epoch 99/100\n",
            "47/47 [==============================] - 0s 3ms/step - loss: 0.0238 - accuracy: 1.0000 - val_loss: 0.1544 - val_accuracy: 0.9360\n",
            "Epoch 100/100\n",
            "47/47 [==============================] - 0s 3ms/step - loss: 0.0232 - accuracy: 1.0000 - val_loss: 0.1581 - val_accuracy: 0.9300\n"
          ]
        }
      ]
    },
    {
      "cell_type": "markdown",
      "source": [
        "ANN clasifier has been modelled with Accuracy 1.0 and Val_accuracy 0.93\n",
        "\n",
        "Scaler applied is Standard Scaler\n"
      ],
      "metadata": {
        "id": "TwZxwPsOIE8m"
      }
    },
    {
      "cell_type": "code",
      "source": [
        "y_pred = model.predict(X_test)"
      ],
      "metadata": {
        "colab": {
          "base_uri": "https://localhost:8080/"
        },
        "id": "-gcptHSJAsDs",
        "outputId": "e5ed687f-249e-4d41-f593-8f09e0b4636c"
      },
      "execution_count": 35,
      "outputs": [
        {
          "output_type": "stream",
          "name": "stdout",
          "text": [
            "16/16 [==============================] - 0s 2ms/step\n"
          ]
        }
      ]
    },
    {
      "cell_type": "code",
      "source": [
        "y_pred"
      ],
      "metadata": {
        "colab": {
          "base_uri": "https://localhost:8080/"
        },
        "id": "MEWI26XqAzIp",
        "outputId": "3e2d5904-7869-458d-c43d-172e4a83b35e"
      },
      "execution_count": 36,
      "outputs": [
        {
          "output_type": "execute_result",
          "data": {
            "text/plain": [
              "array([[7.2967506e-04, 4.6668751e-03, 1.2570695e-02, 9.8203272e-01],\n",
              "       [7.4629678e-04, 4.7851554e-03, 1.3237999e-02, 9.8123056e-01],\n",
              "       [4.1867822e-04, 4.9116481e-03, 9.8890793e-01, 5.7616681e-03],\n",
              "       ...,\n",
              "       [1.0001058e-01, 8.9728606e-01, 2.5752052e-03, 1.2812483e-04],\n",
              "       [8.5648066e-01, 1.4277259e-01, 7.3178194e-04, 1.4992352e-05],\n",
              "       [3.2972062e-03, 9.9199742e-01, 4.3859356e-03, 3.1941058e-04]],\n",
              "      dtype=float32)"
            ]
          },
          "metadata": {},
          "execution_count": 36
        }
      ]
    },
    {
      "cell_type": "code",
      "source": [
        "model.summary()"
      ],
      "metadata": {
        "colab": {
          "base_uri": "https://localhost:8080/"
        },
        "id": "1cbMr7XfA2MQ",
        "outputId": "f5598934-dbc7-4bd0-f9f5-5c5ab147f43f"
      },
      "execution_count": 37,
      "outputs": [
        {
          "output_type": "stream",
          "name": "stdout",
          "text": [
            "Model: \"sequential_1\"\n",
            "_________________________________________________________________\n",
            " Layer (type)                Output Shape              Param #   \n",
            "=================================================================\n",
            " dense_3 (Dense)             (None, 32)                672       \n",
            "                                                                 \n",
            " dense_4 (Dense)             (None, 10)                330       \n",
            "                                                                 \n",
            " dense_5 (Dense)             (None, 4)                 44        \n",
            "                                                                 \n",
            "=================================================================\n",
            "Total params: 1,046\n",
            "Trainable params: 1,046\n",
            "Non-trainable params: 0\n",
            "_________________________________________________________________\n"
          ]
        }
      ]
    },
    {
      "cell_type": "code",
      "source": [
        "plt.plot(history.history['accuracy'], label='accuracy')\n",
        "plt.plot(history.history['val_accuracy'], label = 'val_accuracy')\n",
        "plt.xlabel('Epoch')\n",
        "plt.ylabel('Accuracy')\n",
        "\n",
        "plt.legend(loc='lower right')"
      ],
      "metadata": {
        "colab": {
          "base_uri": "https://localhost:8080/",
          "height": 297
        },
        "id": "G530lN_2A_5B",
        "outputId": "3e1e8d53-daaa-425b-e314-5d642dcf1d2e"
      },
      "execution_count": 39,
      "outputs": [
        {
          "output_type": "execute_result",
          "data": {
            "text/plain": [
              "<matplotlib.legend.Legend at 0x7fcc0ab04ed0>"
            ]
          },
          "metadata": {},
          "execution_count": 39
        },
        {
          "output_type": "display_data",
          "data": {
            "text/plain": [
              "<Figure size 432x288 with 1 Axes>"
            ],
            "image/png": "[encoded data removed]"
          },
          "metadata": {
            "needs_background": "light"
          }
        }
      ]
    },
    {
      "cell_type": "code",
      "source": [
        "from tensorflow.keras.utils import plot_model\n",
        "model_img_file = 'model.png'\n",
        "plot_model(model, to_file=model_img_file, \n",
        "                          show_shapes=True, \n",
        "                          show_layer_activations=True, \n",
        "                          show_dtype=True,\n",
        "                          show_layer_names=True )"
      ],
      "metadata": {
        "colab": {
          "base_uri": "https://localhost:8080/",
          "height": 545
        },
        "id": "h3TiJIJJRxH3",
        "outputId": "30630551-29f4-46cc-b948-cad5af7e2a03"
      },
      "execution_count": 40,
      "outputs": [
        {
          "output_type": "execute_result",
          "data": {
            "image/png": "[encoded data removed]",
            "text/plain": [
              "<IPython.core.display.Image object>"
            ]
          },
          "metadata": {},
          "execution_count": 40
        }
      ]
    },
    {
      "cell_type": "markdown",
      "source": [
        "                      Submitted By: Ajuma Mohammed "
      ],
      "metadata": {
        "id": "MRpB4mfFR363"
      }
    }
  ]
}